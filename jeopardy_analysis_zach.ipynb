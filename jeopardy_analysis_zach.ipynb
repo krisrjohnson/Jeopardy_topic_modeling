{
 "cells": [
  {
   "cell_type": "code",
   "execution_count": 3,
   "metadata": {},
   "outputs": [],
   "source": [
    "import json\n",
    "import pandas as pd\n",
    "import numpy as np\n",
    "import matplotlib.pyplot as plt\n",
    "from jeopardy_funcs import get_topics, get_difficulty, prep_data\n",
    "\n",
    "from sklearn.feature_extraction.text import TfidfVectorizer\n",
    "from sklearn.decomposition import NMF, LatentDirichletAllocation\n",
    "\n",
    "%config InlineBackend.figure_format = 'retina';"
   ]
  },
  {
   "cell_type": "markdown",
   "metadata": {},
   "source": [
    "## Load in the Questions"
   ]
  },
  {
   "cell_type": "code",
   "execution_count": 87,
   "metadata": {},
   "outputs": [
    {
     "data": {
      "text/plain": [
       "'798 questions are repeats.'"
      ]
     },
     "execution_count": 87,
     "metadata": {},
     "output_type": "execute_result"
    }
   ],
   "source": [
    "df = pd.read_json('JEOPARDY_QUESTIONS1.json')\n",
    "f\"{df.shape[0] - df['question'].nunique()} questions are repeats.\""
   ]
  },
  {
   "cell_type": "code",
   "execution_count": 3,
   "metadata": {},
   "outputs": [
    {
     "data": {
      "text/plain": [
       "'There are 27,995 unique categories in Jeopardy!'"
      ]
     },
     "execution_count": 3,
     "metadata": {},
     "output_type": "execute_result"
    }
   ],
   "source": [
    "f\"There are {df['category'].nunique():,} unique categories in Jeopardy!\""
   ]
  },
  {
   "cell_type": "code",
   "execution_count": 4,
   "metadata": {},
   "outputs": [
    {
     "data": {
      "text/plain": [
       "count    27995.000000\n",
       "mean         7.748884\n",
       "std         17.001310\n",
       "min          1.000000\n",
       "25%          5.000000\n",
       "50%          5.000000\n",
       "75%          5.000000\n",
       "max        547.000000\n",
       "Name: category, dtype: float64"
      ]
     },
     "execution_count": 4,
     "metadata": {},
     "output_type": "execute_result"
    }
   ],
   "source": [
    "# bar plot of categories\n",
    "counts = df['category'].value_counts()\n",
    "\n",
    "counts.describe()"
   ]
  },
  {
   "cell_type": "code",
   "execution_count": 5,
   "metadata": {},
   "outputs": [
    {
     "name": "stdout",
     "output_type": "stream",
     "text": [
      "[[\"'Eugene Schueller, who invented a die to cover grey hair, founded this company in Paris in 1947'\"\n",
      "  \"L\\\\'Oréal\"]]\n"
     ]
    }
   ],
   "source": [
    "print(df.iloc[np.random.choice(range(df.shape[0]), 1)][['question','answer']].values)"
   ]
  },
  {
   "cell_type": "markdown",
   "metadata": {},
   "source": [
    "# 2: Difficulty of Questions Over Time\n",
    "### 'Jeopardy!' Round"
   ]
  },
  {
   "cell_type": "code",
   "execution_count": 88,
   "metadata": {},
   "outputs": [
    {
     "name": "stderr",
     "output_type": "stream",
     "text": [
      "/Users/zach.dougherty/anaconda3/envs/torch_env/lib/python3.8/site-packages/sklearn/decomposition/_nmf.py:1090: ConvergenceWarning: Maximum number of iterations 400 reached. Increase it to improve convergence.\n",
      "  warnings.warn(\"Maximum number of iterations %d reached. Increase it to\"\n",
      "/Users/zach.dougherty/anaconda3/envs/torch_env/lib/python3.8/site-packages/sklearn/decomposition/_nmf.py:1090: ConvergenceWarning: Maximum number of iterations 400 reached. Increase it to improve convergence.\n",
      "  warnings.warn(\"Maximum number of iterations %d reached. Increase it to\"\n"
     ]
    }
   ],
   "source": [
    "jeopardy_df = get_difficulty(prep_data(df.loc[df['round'] == 'Jeopardy!', :]))\n",
    "\n",
    "jeopardy = {}\n",
    "\n",
    "for difficulty in jeopardy_df['difficulty'].unique():\n",
    "    W, H, df, vocab = get_topics(jeopardy_df.loc[jeopardy_df['difficulty'] == difficulty], 25)\n",
    "    idx2word = {idx: word for word, idx in vocab.items()}\n",
    "    \n",
    "    sorted_term_relevancy = np.apply_along_axis(np.argsort, axis=1, arr=-H)\n",
    "    word_relevancy = [list(map(idx2word.get, topic)) for topic in sorted_term_relevancy]\n",
    "    \n",
    "    jeopardy[difficulty] = {\n",
    "        'W': W,\n",
    "        'H': H,\n",
    "        'data': df,\n",
    "        'relevant_words': word_relevancy\n",
    "    }"
   ]
  },
  {
   "cell_type": "code",
   "execution_count": 107,
   "metadata": {},
   "outputs": [
    {
     "name": "stdout",
     "output_type": "stream",
     "text": [
      "['www', 'http', 'href', 'archive', 'media']\n",
      "['day', 'time', 'long', 'week', 'national']\n",
      "['world', 'largest', 'war', 'series', 'capital']\n",
      "['br', '____', '___', 'partner', 'mp3']\n",
      "['named', 'king', 'french', 'explorer', 'popular']\n",
      "['known', 'better', 'born', 'best', 'king']\n",
      "['city', 'capital', 'largest', 'home', 'museum']\n",
      "['man', 'woman', 'famous', 'book', 'war']\n",
      "['like', 'sounds', 'just', 'term', 'good']\n",
      "['new', 'york', 'jersey', 'orleans', 'hampshire']\n",
      "['used', 'make', 'term', 'small', 'body']\n",
      "['seen', 'famous', 'comic', 'style', 'work']\n",
      "['song', 'hit', 'heard', 'time', 'music']\n",
      "['country', 'king', 'war', 'nation', 'border']\n",
      "['type', 'bird', 'animal', 'fruit', 'common']\n",
      "['big', 'company', 'got', 'book', 've']\n",
      "['said', 'don', 'people', 'll', 'know']\n",
      "['film', 'title', 'played', 'character', 'tv']\n",
      "['old', 'year', 'years', '000', 'time']\n",
      "['called', 'fish', 'time', 'book', 'originally']\n",
      "['game', 'home', 'card', 'team', 'play']\n",
      "['president', 'vice', 'elected', 'future', 'office']\n",
      "['word', 'letter', 'term', 'meaning', 'comes']\n",
      "['american', 'south', 'north', 'great', 'island']\n",
      "['state', 'capital', 'park', 'bird', 'washington']\n"
     ]
    }
   ],
   "source": [
    "for topic in jeopardy[2]['relevant_words']:\n",
    "    print(topic[:5])"
   ]
  },
  {
   "cell_type": "markdown",
   "metadata": {},
   "source": [
    "### 'Double Jeopardy!' Round"
   ]
  },
  {
   "cell_type": "code",
   "execution_count": 50,
   "metadata": {},
   "outputs": [],
   "source": [
    "dbl_jeopardy = df.drop('topic', axis=1).loc[df['round'] == 'Double Jeopardy!', :]\n",
    "tfidf_dbl_jeopardy = vectorizer.fit_transform(dbl_jeopardy['question'])"
   ]
  },
  {
   "cell_type": "code",
   "execution_count": 53,
   "metadata": {},
   "outputs": [],
   "source": [
    "model = NMF(n_components=25, init='random', max_iter=400)\n",
    "W_dbl_jeopardy = model.fit_transform(tfidf_dbl_jeopardy)  # document-topic, rows=document, cols=topics\n",
    "H_dbl_jeopardy = model.components_  # topic-term, rows=topics, cols=terms"
   ]
  },
  {
   "cell_type": "code",
   "execution_count": 54,
   "metadata": {},
   "outputs": [],
   "source": [
    "# topic column\n",
    "dbl_jtopics = np.apply_along_axis(np.argmax, axis=1, arr=W_dbl_jeopardy)\n",
    "dbl_jeopardy.loc[:, 'topic'] = dbl_jtopics"
   ]
  },
  {
   "cell_type": "markdown",
   "metadata": {},
   "source": [
    "Add rank of difficulty per value"
   ]
  },
  {
   "cell_type": "code",
   "execution_count": 55,
   "metadata": {},
   "outputs": [],
   "source": [
    "dbl_jeopardy.loc[:, 'difficulty'] = dbl_jeopardy.groupby(['show_number']).rank(method='dense')['value']"
   ]
  },
  {
   "cell_type": "code",
   "execution_count": 56,
   "metadata": {},
   "outputs": [
    {
     "data": {
      "text/html": [
       "<div>\n",
       "<style scoped>\n",
       "    .dataframe tbody tr th:only-of-type {\n",
       "        vertical-align: middle;\n",
       "    }\n",
       "\n",
       "    .dataframe tbody tr th {\n",
       "        vertical-align: top;\n",
       "    }\n",
       "\n",
       "    .dataframe thead th {\n",
       "        text-align: right;\n",
       "    }\n",
       "</style>\n",
       "<table border=\"1\" class=\"dataframe\">\n",
       "  <thead>\n",
       "    <tr style=\"text-align: right;\">\n",
       "      <th></th>\n",
       "      <th>category</th>\n",
       "      <th>air_date</th>\n",
       "      <th>question</th>\n",
       "      <th>value</th>\n",
       "      <th>answer</th>\n",
       "      <th>round</th>\n",
       "      <th>show_number</th>\n",
       "      <th>year</th>\n",
       "      <th>difficulty</th>\n",
       "      <th>topic</th>\n",
       "    </tr>\n",
       "  </thead>\n",
       "  <tbody>\n",
       "    <tr>\n",
       "      <th>5787</th>\n",
       "      <td>...&amp; THE HORSE YOU RODE IN ON!</td>\n",
       "      <td>2010-01-11</td>\n",
       "      <td>'Ex-welterweight champ Carlos, or a golden-coa...</td>\n",
       "      <td>800.0</td>\n",
       "      <td>a palomino</td>\n",
       "      <td>Double Jeopardy!</td>\n",
       "      <td>5831</td>\n",
       "      <td>2010</td>\n",
       "      <td>2.0</td>\n",
       "      <td>20</td>\n",
       "    </tr>\n",
       "    <tr>\n",
       "      <th>149961</th>\n",
       "      <td>LITERATURE</td>\n",
       "      <td>1996-07-17</td>\n",
       "      <td>'The first four chapters of this Bram Stoker w...</td>\n",
       "      <td>200.0</td>\n",
       "      <td>\"Dracula\"</td>\n",
       "      <td>Double Jeopardy!</td>\n",
       "      <td>2753</td>\n",
       "      <td>1996</td>\n",
       "      <td>1.0</td>\n",
       "      <td>14</td>\n",
       "    </tr>\n",
       "    <tr>\n",
       "      <th>143490</th>\n",
       "      <td>INTERESTING ANAGRAMS</td>\n",
       "      <td>2008-09-09</td>\n",
       "      <td>'Henny Youngman quipped, \"I just got back from...</td>\n",
       "      <td>1200.0</td>\n",
       "      <td>mother-in-law</td>\n",
       "      <td>Double Jeopardy!</td>\n",
       "      <td>5517</td>\n",
       "      <td>2008</td>\n",
       "      <td>3.0</td>\n",
       "      <td>18</td>\n",
       "    </tr>\n",
       "  </tbody>\n",
       "</table>\n",
       "</div>"
      ],
      "text/plain": [
       "                              category   air_date  \\\n",
       "5787    ...& THE HORSE YOU RODE IN ON! 2010-01-11   \n",
       "149961                      LITERATURE 1996-07-17   \n",
       "143490            INTERESTING ANAGRAMS 2008-09-09   \n",
       "\n",
       "                                                 question   value  \\\n",
       "5787    'Ex-welterweight champ Carlos, or a golden-coa...   800.0   \n",
       "149961  'The first four chapters of this Bram Stoker w...   200.0   \n",
       "143490  'Henny Youngman quipped, \"I just got back from...  1200.0   \n",
       "\n",
       "               answer             round  show_number  year  difficulty  topic  \n",
       "5787       a palomino  Double Jeopardy!         5831  2010         2.0     20  \n",
       "149961      \"Dracula\"  Double Jeopardy!         2753  1996         1.0     14  \n",
       "143490  mother-in-law  Double Jeopardy!         5517  2008         3.0     18  "
      ]
     },
     "execution_count": 56,
     "metadata": {},
     "output_type": "execute_result"
    }
   ],
   "source": [
    "dbl_jeopardy.sample(3)"
   ]
  },
  {
   "cell_type": "markdown",
   "metadata": {},
   "source": [
    "## Comparison"
   ]
  },
  {
   "cell_type": "code",
   "execution_count": 83,
   "metadata": {},
   "outputs": [
    {
     "data": {
      "text/plain": [
       "<AxesSubplot:xlabel='topic'>"
      ]
     },
     "execution_count": 83,
     "metadata": {},
     "output_type": "execute_result"
    },
    {
     "data": {
      "image/png": "[encoded data removed]",
      "text/plain": [
       "<Figure size 432x288 with 1 Axes>"
      ]
     },
     "metadata": {
      "image/png": {
       "height": 265,
       "width": 378
      },
      "needs_background": "light"
     },
     "output_type": "display_data"
    }
   ],
   "source": [
    "jtopic_cts = jeopardy.groupby('topic').count()[['category']].rename(columns={'category':'count'}).sort_values('count', ascending=False)\n",
    "jtopic_cts['count'] /= jtopic_cts['count'].sum()\n",
    "\n",
    "jtopic_cts.plot.bar()"
   ]
  },
  {
   "cell_type": "code",
   "execution_count": 84,
   "metadata": {},
   "outputs": [
    {
     "data": {
      "text/plain": [
       "<AxesSubplot:xlabel='topic'>"
      ]
     },
     "execution_count": 84,
     "metadata": {},
     "output_type": "execute_result"
    },
    {
     "data": {
      "image/png": "[encoded data removed]",
      "text/plain": [
       "<Figure size 432x288 with 1 Axes>"
      ]
     },
     "metadata": {
      "image/png": {
       "height": 265,
       "width": 378
      },
      "needs_background": "light"
     },
     "output_type": "display_data"
    }
   ],
   "source": [
    "dbl_topic_cts = dbl_jeopardy.groupby('topic').count()[['category']].rename(columns={'category':'count'}).sort_values('count', ascending=False)\n",
    "dbl_topic_cts['count'] /= dbl_topic_cts['count'].sum()\n",
    "\n",
    "\n",
    "dbl_topic_cts.plot.bar()"
   ]
  },
  {
   "cell_type": "code",
   "execution_count": 97,
   "metadata": {},
   "outputs": [],
   "source": [
    "# need to plot the topics present in each difficulty level\n",
    "diff_topics = jeopardy.groupby(['difficulty','topic']).count()[['category']].rename(columns={'category':'count'}).reset_index(1)\n",
    "\n",
    "for difficulty in np.unique(diff_topics.index):\n",
    "    diff_topics.loc[difficulty, 'count'] /= diff_topics.loc[difficulty, 'count'].sum()"
   ]
  },
  {
   "cell_type": "code",
   "execution_count": 99,
   "metadata": {},
   "outputs": [
    {
     "data": {
      "text/html": [
       "<div>\n",
       "<style scoped>\n",
       "    .dataframe tbody tr th:only-of-type {\n",
       "        vertical-align: middle;\n",
       "    }\n",
       "\n",
       "    .dataframe tbody tr th {\n",
       "        vertical-align: top;\n",
       "    }\n",
       "\n",
       "    .dataframe thead th {\n",
       "        text-align: right;\n",
       "    }\n",
       "</style>\n",
       "<table border=\"1\" class=\"dataframe\">\n",
       "  <thead>\n",
       "    <tr style=\"text-align: right;\">\n",
       "      <th></th>\n",
       "      <th>topic</th>\n",
       "      <th>count</th>\n",
       "    </tr>\n",
       "    <tr>\n",
       "      <th>difficulty</th>\n",
       "      <th></th>\n",
       "      <th></th>\n",
       "    </tr>\n",
       "  </thead>\n",
       "  <tbody>\n",
       "    <tr>\n",
       "      <th>1.0</th>\n",
       "      <td>0</td>\n",
       "      <td>0.033190</td>\n",
       "    </tr>\n",
       "    <tr>\n",
       "      <th>1.0</th>\n",
       "      <td>1</td>\n",
       "      <td>0.049323</td>\n",
       "    </tr>\n",
       "    <tr>\n",
       "      <th>1.0</th>\n",
       "      <td>2</td>\n",
       "      <td>0.084685</td>\n",
       "    </tr>\n",
       "    <tr>\n",
       "      <th>1.0</th>\n",
       "      <td>3</td>\n",
       "      <td>0.039338</td>\n",
       "    </tr>\n",
       "    <tr>\n",
       "      <th>1.0</th>\n",
       "      <td>4</td>\n",
       "      <td>0.037489</td>\n",
       "    </tr>\n",
       "    <tr>\n",
       "      <th>1.0</th>\n",
       "      <td>5</td>\n",
       "      <td>0.049785</td>\n",
       "    </tr>\n",
       "    <tr>\n",
       "      <th>1.0</th>\n",
       "      <td>6</td>\n",
       "      <td>0.046133</td>\n",
       "    </tr>\n",
       "    <tr>\n",
       "      <th>1.0</th>\n",
       "      <td>7</td>\n",
       "      <td>0.018352</td>\n",
       "    </tr>\n",
       "    <tr>\n",
       "      <th>1.0</th>\n",
       "      <td>8</td>\n",
       "      <td>0.023899</td>\n",
       "    </tr>\n",
       "    <tr>\n",
       "      <th>1.0</th>\n",
       "      <td>9</td>\n",
       "      <td>0.160080</td>\n",
       "    </tr>\n",
       "    <tr>\n",
       "      <th>1.0</th>\n",
       "      <td>10</td>\n",
       "      <td>0.021957</td>\n",
       "    </tr>\n",
       "    <tr>\n",
       "      <th>1.0</th>\n",
       "      <td>11</td>\n",
       "      <td>0.026903</td>\n",
       "    </tr>\n",
       "    <tr>\n",
       "      <th>1.0</th>\n",
       "      <td>12</td>\n",
       "      <td>0.030093</td>\n",
       "    </tr>\n",
       "    <tr>\n",
       "      <th>1.0</th>\n",
       "      <td>13</td>\n",
       "      <td>0.019369</td>\n",
       "    </tr>\n",
       "    <tr>\n",
       "      <th>1.0</th>\n",
       "      <td>14</td>\n",
       "      <td>0.020617</td>\n",
       "    </tr>\n",
       "    <tr>\n",
       "      <th>1.0</th>\n",
       "      <td>15</td>\n",
       "      <td>0.007627</td>\n",
       "    </tr>\n",
       "    <tr>\n",
       "      <th>1.0</th>\n",
       "      <td>16</td>\n",
       "      <td>0.019692</td>\n",
       "    </tr>\n",
       "    <tr>\n",
       "      <th>1.0</th>\n",
       "      <td>17</td>\n",
       "      <td>0.029168</td>\n",
       "    </tr>\n",
       "    <tr>\n",
       "      <th>1.0</th>\n",
       "      <td>18</td>\n",
       "      <td>0.020940</td>\n",
       "    </tr>\n",
       "    <tr>\n",
       "      <th>1.0</th>\n",
       "      <td>19</td>\n",
       "      <td>0.038321</td>\n",
       "    </tr>\n",
       "    <tr>\n",
       "      <th>1.0</th>\n",
       "      <td>20</td>\n",
       "      <td>0.030648</td>\n",
       "    </tr>\n",
       "    <tr>\n",
       "      <th>1.0</th>\n",
       "      <td>21</td>\n",
       "      <td>0.106134</td>\n",
       "    </tr>\n",
       "    <tr>\n",
       "      <th>1.0</th>\n",
       "      <td>22</td>\n",
       "      <td>0.028475</td>\n",
       "    </tr>\n",
       "    <tr>\n",
       "      <th>1.0</th>\n",
       "      <td>23</td>\n",
       "      <td>0.018768</td>\n",
       "    </tr>\n",
       "    <tr>\n",
       "      <th>1.0</th>\n",
       "      <td>24</td>\n",
       "      <td>0.039014</td>\n",
       "    </tr>\n",
       "  </tbody>\n",
       "</table>\n",
       "</div>"
      ],
      "text/plain": [
       "            topic     count\n",
       "difficulty                 \n",
       "1.0             0  0.033190\n",
       "1.0             1  0.049323\n",
       "1.0             2  0.084685\n",
       "1.0             3  0.039338\n",
       "1.0             4  0.037489\n",
       "1.0             5  0.049785\n",
       "1.0             6  0.046133\n",
       "1.0             7  0.018352\n",
       "1.0             8  0.023899\n",
       "1.0             9  0.160080\n",
       "1.0            10  0.021957\n",
       "1.0            11  0.026903\n",
       "1.0            12  0.030093\n",
       "1.0            13  0.019369\n",
       "1.0            14  0.020617\n",
       "1.0            15  0.007627\n",
       "1.0            16  0.019692\n",
       "1.0            17  0.029168\n",
       "1.0            18  0.020940\n",
       "1.0            19  0.038321\n",
       "1.0            20  0.030648\n",
       "1.0            21  0.106134\n",
       "1.0            22  0.028475\n",
       "1.0            23  0.018768\n",
       "1.0            24  0.039014"
      ]
     },
     "execution_count": 99,
     "metadata": {},
     "output_type": "execute_result"
    }
   ],
   "source": [
    "diff_topics.loc[1, :]"
   ]
  },
  {
   "cell_type": "code",
   "execution_count": null,
   "metadata": {},
   "outputs": [],
   "source": []
  }
 ],
 "metadata": {
  "kernelspec": {
   "display_name": "Python 3",
   "language": "python",
   "name": "python3"
  },
  "language_info": {
   "codemirror_mode": {
    "name": "ipython",
    "version": 3
   },
   "file_extension": ".py",
   "mimetype": "text/x-python",
   "name": "python",
   "nbconvert_exporter": "python",
   "pygments_lexer": "ipython3",
   "version": "3.8.8"
  }
 },
 "nbformat": 4,
 "nbformat_minor": 4
}
