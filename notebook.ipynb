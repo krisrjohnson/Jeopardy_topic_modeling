{
 "cells": [
  {
   "cell_type": "markdown",
   "source": "# ",
   "metadata": {
    "tags": [],
    "cell_id": "00001-747a13aa-6201-4377-a727-2499a7a08045",
    "deepnote_cell_type": "markdown"
   }
  },
  {
   "cell_type": "code",
   "metadata": {
    "tags": [],
    "cell_id": "00001-bdbd90b8-a5db-4525-9e84-7cf211dc8be3",
    "deepnote_to_be_reexecuted": false,
    "source_hash": "cf26b960",
    "execution_start": 1620317922889,
    "execution_millis": 421,
    "deepnote_cell_type": "code"
   },
   "source": "# unpack data\n# !tar -xzvf JEOPARDY_QUESTIONS1.json.tar.gz",
   "execution_count": null,
   "outputs": []
  },
  {
   "cell_type": "code",
   "metadata": {
    "tags": [],
    "cell_id": "00001-fe0d38d5-a7f2-4784-9c68-fc41e65f2849",
    "deepnote_to_be_reexecuted": false,
    "source_hash": "dca65800",
    "execution_start": 1620768298481,
    "execution_millis": 1,
    "deepnote_cell_type": "code"
   },
   "source": "reset -fs",
   "execution_count": 2,
   "outputs": []
  },
  {
   "cell_type": "code",
   "metadata": {
    "tags": [],
    "cell_id": "00002-79958578-c7d4-4f76-bcaf-bb0968ffd1b9",
    "deepnote_to_be_reexecuted": false,
    "source_hash": "2f19d1f9",
    "execution_start": 1620768298840,
    "execution_millis": 419,
    "deepnote_cell_type": "code"
   },
   "source": "%load_ext autoreload\n%autoreload 2",
   "execution_count": 3,
   "outputs": []
  },
  {
   "cell_type": "code",
   "metadata": {
    "tags": [],
    "cell_id": "00003-5a5e74fa-17de-4755-988c-d92dc19d3195",
    "deepnote_to_be_reexecuted": false,
    "source_hash": "61a7104c",
    "execution_start": 1620768299479,
    "execution_millis": 1948,
    "deepnote_cell_type": "code"
   },
   "source": "import pandas as pd\nimport numpy as np\nimport networkx as nx\n\nfrom sklearn.decomposition import LatentDirichletAllocation\nfrom sklearn.decomposition import NMF\nfrom sklearn.feature_extraction.text import TfidfVectorizer",
   "execution_count": 4,
   "outputs": []
  },
  {
   "cell_type": "markdown",
   "source": "## Load and Prep Data",
   "metadata": {
    "tags": [],
    "cell_id": "00005-4c9fad82-dc15-44eb-87eb-27c4f4d5696b",
    "deepnote_cell_type": "markdown"
   }
  },
  {
   "cell_type": "code",
   "metadata": {
    "tags": [],
    "cell_id": "00004-c2365284-8207-4f37-9461-139246be5c66",
    "deepnote_to_be_reexecuted": false,
    "source_hash": "aeb60e6c",
    "execution_start": 1620768302406,
    "execution_millis": 2057,
    "deepnote_cell_type": "code"
   },
   "source": "df = pd.read_json(\"JEOPARDY_QUESTIONS1.json\")",
   "execution_count": 5,
   "outputs": []
  },
  {
   "cell_type": "code",
   "metadata": {
    "tags": [],
    "cell_id": "00005-b1adf310-99a7-42eb-9792-e8261ae49d4f",
    "deepnote_to_be_reexecuted": false,
    "source_hash": "f30f989a",
    "execution_start": 1620768305984,
    "execution_millis": 185,
    "deepnote_cell_type": "code"
   },
   "source": "df.head(10)",
   "execution_count": 6,
   "outputs": [
    {
     "output_type": "execute_result",
     "execution_count": 6,
     "data": {
      "application/vnd.deepnote.dataframe.v2+json": {
       "row_count": 10,
       "column_count": 7,
       "columns": [
        {
         "name": "category",
         "dtype": "object",
         "stats": {
          "unique_count": 6,
          "nan_count": 0,
          "categories": [
           {
            "name": "HISTORY",
            "count": 2
           },
           {
            "name": "ESPN's TOP 10 ALL-TIME ATHLETES",
            "count": 2
           },
           {
            "name": "4 others",
            "count": 6
           }
          ]
         }
        },
        {
         "name": "air_date",
         "dtype": "object",
         "stats": {
          "unique_count": 1,
          "nan_count": 0,
          "categories": [
           {
            "name": "2004-12-31",
            "count": 10
           }
          ]
         }
        },
        {
         "name": "question",
         "dtype": "object",
         "stats": {
          "unique_count": 10,
          "nan_count": 0,
          "categories": [
           {
            "name": "'For the last 8 years of his life, Galileo was under house arrest for espousing this man's theory'",
            "count": 1
           },
           {
            "name": "'No. 2: 1912 Olympian; football star at Carlisle Indian School; 6 MLB seasons with the Reds, Giants & Braves'",
            "count": 1
           },
           {
            "name": "8 others",
            "count": 8
           }
          ]
         }
        },
        {
         "name": "value",
         "dtype": "object",
         "stats": {
          "unique_count": 2,
          "nan_count": 0,
          "categories": [
           {
            "name": "$200",
            "count": 6
           },
           {
            "name": "$400",
            "count": 4
           }
          ]
         }
        },
        {
         "name": "answer",
         "dtype": "object",
         "stats": {
          "unique_count": 10,
          "nan_count": 0,
          "categories": [
           {
            "name": "Copernicus",
            "count": 1
           },
           {
            "name": "Jim Thorpe",
            "count": 1
           },
           {
            "name": "8 others",
            "count": 8
           }
          ]
         }
        },
        {
         "name": "round",
         "dtype": "object",
         "stats": {
          "unique_count": 1,
          "nan_count": 0,
          "categories": [
           {
            "name": "Jeopardy!",
            "count": 10
           }
          ]
         }
        },
        {
         "name": "show_number",
         "dtype": "int64",
         "stats": {
          "unique_count": 1,
          "nan_count": 0,
          "min": "4680",
          "max": "4680",
          "histogram": [
           {
            "bin_start": 4679.5,
            "bin_end": 4679.6,
            "count": 0
           },
           {
            "bin_start": 4679.6,
            "bin_end": 4679.7,
            "count": 0
           },
           {
            "bin_start": 4679.7,
            "bin_end": 4679.8,
            "count": 0
           },
           {
            "bin_start": 4679.8,
            "bin_end": 4679.9,
            "count": 0
           },
           {
            "bin_start": 4679.9,
            "bin_end": 4680,
            "count": 0
           },
           {
            "bin_start": 4680,
            "bin_end": 4680.1,
            "count": 10
           },
           {
            "bin_start": 4680.1,
            "bin_end": 4680.2,
            "count": 0
           },
           {
            "bin_start": 4680.2,
            "bin_end": 4680.3,
            "count": 0
           },
           {
            "bin_start": 4680.3,
            "bin_end": 4680.4,
            "count": 0
           },
           {
            "bin_start": 4680.4,
            "bin_end": 4680.5,
            "count": 0
           }
          ]
         }
        },
        {
         "name": "_deepnote_index_column",
         "dtype": "int64"
        }
       ],
       "rows_top": [
        {
         "category": "HISTORY",
         "air_date": "2004-12-31",
         "question": "'For the last 8 years of his life, Galileo was under house arrest for espousing this man's theory'",
         "value": "$200",
         "answer": "Copernicus",
         "round": "Jeopardy!",
         "show_number": 4680,
         "_deepnote_index_column": 0
        },
        {
         "category": "ESPN's TOP 10 ALL-TIME ATHLETES",
         "air_date": "2004-12-31",
         "question": "'No. 2: 1912 Olympian; football star at Carlisle Indian School; 6 MLB seasons with the Reds, Giants & Braves'",
         "value": "$200",
         "answer": "Jim Thorpe",
         "round": "Jeopardy!",
         "show_number": 4680,
         "_deepnote_index_column": 1
        },
        {
         "category": "EVERYBODY TALKS ABOUT IT...",
         "air_date": "2004-12-31",
         "question": "'The city of Yuma in this state has a record average of 4,055 hours of sunshine each year'",
         "value": "$200",
         "answer": "Arizona",
         "round": "Jeopardy!",
         "show_number": 4680,
         "_deepnote_index_column": 2
        },
        {
         "category": "THE COMPANY LINE",
         "air_date": "2004-12-31",
         "question": "'In 1963, live on \"The Art Linkletter Show\", this company served its billionth burger'",
         "value": "$200",
         "answer": "McDonald\\'s",
         "round": "Jeopardy!",
         "show_number": 4680,
         "_deepnote_index_column": 3
        },
        {
         "category": "EPITAPHS & TRIBUTES",
         "air_date": "2004-12-31",
         "question": "'Signer of the Dec. of Indep., framer of the Constitution of Mass., second President of the United States'",
         "value": "$200",
         "answer": "John Adams",
         "round": "Jeopardy!",
         "show_number": 4680,
         "_deepnote_index_column": 4
        },
        {
         "category": "3-LETTER WORDS",
         "air_date": "2004-12-31",
         "question": "'In the title of an Aesop fable, this insect shared billing with a grasshopper'",
         "value": "$200",
         "answer": "the ant",
         "round": "Jeopardy!",
         "show_number": 4680,
         "_deepnote_index_column": 5
        },
        {
         "category": "HISTORY",
         "air_date": "2004-12-31",
         "question": "'Built in 312 B.C. to link Rome & the South of Italy, it's still in use today'",
         "value": "$400",
         "answer": "the Appian Way",
         "round": "Jeopardy!",
         "show_number": 4680,
         "_deepnote_index_column": 6
        },
        {
         "category": "ESPN's TOP 10 ALL-TIME ATHLETES",
         "air_date": "2004-12-31",
         "question": "'No. 8: 30 steals for the Birmingham Barons; 2,306 steals for the Bulls'",
         "value": "$400",
         "answer": "Michael Jordan",
         "round": "Jeopardy!",
         "show_number": 4680,
         "_deepnote_index_column": 7
        },
        {
         "category": "EVERYBODY TALKS ABOUT IT...",
         "air_date": "2004-12-31",
         "question": "'In the winter of 1971-72, a record 1,122 inches of snow fell at Rainier Paradise Ranger Station in this state'",
         "value": "$400",
         "answer": "Washington",
         "round": "Jeopardy!",
         "show_number": 4680,
         "_deepnote_index_column": 8
        },
        {
         "category": "THE COMPANY LINE",
         "air_date": "2004-12-31",
         "question": "'This housewares store was named for the packaging its merchandise came in & was first displayed on'",
         "value": "$400",
         "answer": "Crate & Barrel",
         "round": "Jeopardy!",
         "show_number": 4680,
         "_deepnote_index_column": 9
        }
       ],
       "rows_bottom": null
      },
      "text/plain": "                          category    air_date  \\\n0                          HISTORY  2004-12-31   \n1  ESPN's TOP 10 ALL-TIME ATHLETES  2004-12-31   \n2      EVERYBODY TALKS ABOUT IT...  2004-12-31   \n3                 THE COMPANY LINE  2004-12-31   \n4              EPITAPHS & TRIBUTES  2004-12-31   \n5                   3-LETTER WORDS  2004-12-31   \n6                          HISTORY  2004-12-31   \n7  ESPN's TOP 10 ALL-TIME ATHLETES  2004-12-31   \n8      EVERYBODY TALKS ABOUT IT...  2004-12-31   \n9                 THE COMPANY LINE  2004-12-31   \n\n                                            question value          answer  \\\n0  'For the last 8 years of his life, Galileo was...  $200      Copernicus   \n1  'No. 2: 1912 Olympian; football star at Carlis...  $200      Jim Thorpe   \n2  'The city of Yuma in this state has a record a...  $200         Arizona   \n3  'In 1963, live on \"The Art Linkletter Show\", t...  $200     McDonald\\'s   \n4  'Signer of the Dec. of Indep., framer of the C...  $200      John Adams   \n5  'In the title of an Aesop fable, this insect s...  $200         the ant   \n6  'Built in 312 B.C. to link Rome & the South of...  $400  the Appian Way   \n7  'No. 8: 30 steals for the Birmingham Barons; 2...  $400  Michael Jordan   \n8  'In the winter of 1971-72, a record 1,122 inch...  $400      Washington   \n9  'This housewares store was named for the packa...  $400  Crate & Barrel   \n\n       round  show_number  \n0  Jeopardy!         4680  \n1  Jeopardy!         4680  \n2  Jeopardy!         4680  \n3  Jeopardy!         4680  \n4  Jeopardy!         4680  \n5  Jeopardy!         4680  \n6  Jeopardy!         4680  \n7  Jeopardy!         4680  \n8  Jeopardy!         4680  \n9  Jeopardy!         4680  ",
      "text/html": "<div>\n<style scoped>\n    .dataframe tbody tr th:only-of-type {\n        vertical-align: middle;\n    }\n\n    .dataframe tbody tr th {\n        vertical-align: top;\n    }\n\n    .dataframe thead th {\n        text-align: right;\n    }\n</style>\n<table border=\"1\" class=\"dataframe\">\n  <thead>\n    <tr style=\"text-align: right;\">\n      <th></th>\n      <th>category</th>\n      <th>air_date</th>\n      <th>question</th>\n      <th>value</th>\n      <th>answer</th>\n      <th>round</th>\n      <th>show_number</th>\n    </tr>\n  </thead>\n  <tbody>\n    <tr>\n      <th>0</th>\n      <td>HISTORY</td>\n      <td>2004-12-31</td>\n      <td>'For the last 8 years of his life, Galileo was...</td>\n      <td>$200</td>\n      <td>Copernicus</td>\n      <td>Jeopardy!</td>\n      <td>4680</td>\n    </tr>\n    <tr>\n      <th>1</th>\n      <td>ESPN's TOP 10 ALL-TIME ATHLETES</td>\n      <td>2004-12-31</td>\n      <td>'No. 2: 1912 Olympian; football star at Carlis...</td>\n      <td>$200</td>\n      <td>Jim Thorpe</td>\n      <td>Jeopardy!</td>\n      <td>4680</td>\n    </tr>\n    <tr>\n      <th>2</th>\n      <td>EVERYBODY TALKS ABOUT IT...</td>\n      <td>2004-12-31</td>\n      <td>'The city of Yuma in this state has a record a...</td>\n      <td>$200</td>\n      <td>Arizona</td>\n      <td>Jeopardy!</td>\n      <td>4680</td>\n    </tr>\n    <tr>\n      <th>3</th>\n      <td>THE COMPANY LINE</td>\n      <td>2004-12-31</td>\n      <td>'In 1963, live on \"The Art Linkletter Show\", t...</td>\n      <td>$200</td>\n      <td>McDonald\\'s</td>\n      <td>Jeopardy!</td>\n      <td>4680</td>\n    </tr>\n    <tr>\n      <th>4</th>\n      <td>EPITAPHS &amp; TRIBUTES</td>\n      <td>2004-12-31</td>\n      <td>'Signer of the Dec. of Indep., framer of the C...</td>\n      <td>$200</td>\n      <td>John Adams</td>\n      <td>Jeopardy!</td>\n      <td>4680</td>\n    </tr>\n    <tr>\n      <th>5</th>\n      <td>3-LETTER WORDS</td>\n      <td>2004-12-31</td>\n      <td>'In the title of an Aesop fable, this insect s...</td>\n      <td>$200</td>\n      <td>the ant</td>\n      <td>Jeopardy!</td>\n      <td>4680</td>\n    </tr>\n    <tr>\n      <th>6</th>\n      <td>HISTORY</td>\n      <td>2004-12-31</td>\n      <td>'Built in 312 B.C. to link Rome &amp; the South of...</td>\n      <td>$400</td>\n      <td>the Appian Way</td>\n      <td>Jeopardy!</td>\n      <td>4680</td>\n    </tr>\n    <tr>\n      <th>7</th>\n      <td>ESPN's TOP 10 ALL-TIME ATHLETES</td>\n      <td>2004-12-31</td>\n      <td>'No. 8: 30 steals for the Birmingham Barons; 2...</td>\n      <td>$400</td>\n      <td>Michael Jordan</td>\n      <td>Jeopardy!</td>\n      <td>4680</td>\n    </tr>\n    <tr>\n      <th>8</th>\n      <td>EVERYBODY TALKS ABOUT IT...</td>\n      <td>2004-12-31</td>\n      <td>'In the winter of 1971-72, a record 1,122 inch...</td>\n      <td>$400</td>\n      <td>Washington</td>\n      <td>Jeopardy!</td>\n      <td>4680</td>\n    </tr>\n    <tr>\n      <th>9</th>\n      <td>THE COMPANY LINE</td>\n      <td>2004-12-31</td>\n      <td>'This housewares store was named for the packa...</td>\n      <td>$400</td>\n      <td>Crate &amp; Barrel</td>\n      <td>Jeopardy!</td>\n      <td>4680</td>\n    </tr>\n  </tbody>\n</table>\n</div>"
     },
     "metadata": {}
    }
   ]
  },
  {
   "cell_type": "code",
   "metadata": {
    "tags": [],
    "cell_id": "00008-45f86291-6343-4d28-8edb-5019248c2b51",
    "deepnote_to_be_reexecuted": false,
    "source_hash": "5b9fd7",
    "execution_start": 1620773371945,
    "execution_millis": 472,
    "deepnote_cell_type": "code"
   },
   "source": "df['value'].unique()",
   "execution_count": 55,
   "outputs": [
    {
     "output_type": "execute_result",
     "execution_count": 55,
     "data": {
      "text/plain": "array(['$200', '$400', '$600', '$800', '$2,000', '$1000', '$1200',\n       '$1600', '$2000', '$3,200', None, '$5,000', '$100', '$300', '$500',\n       '$1,000', '$1,500', '$1,200', '$4,800', '$1,800', '$1,100',\n       '$2,200', '$3,400', '$3,000', '$4,000', '$1,600', '$6,800',\n       '$1,900', '$3,100', '$700', '$1,400', '$2,800', '$8,000', '$6,000',\n       '$2,400', '$12,000', '$3,800', '$2,500', '$6,200', '$10,000',\n       '$7,000', '$1,492', '$7,400', '$1,300', '$7,200', '$2,600',\n       '$3,300', '$5,400', '$4,500', '$2,100', '$900', '$3,600', '$2,127',\n       '$367', '$4,400', '$3,500', '$2,900', '$3,900', '$4,100', '$4,600',\n       '$10,800', '$2,300', '$5,600', '$1,111', '$8,200', '$5,800',\n       '$750', '$7,500', '$1,700', '$9,000', '$6,100', '$1,020', '$4,700',\n       '$2,021', '$5,200', '$3,389', '$4,200', '$5', '$2,001', '$1,263',\n       '$4,637', '$3,201', '$6,600', '$3,700', '$2,990', '$5,500',\n       '$14,000', '$2,700', '$6,400', '$350', '$8,600', '$6,300', '$250',\n       '$3,989', '$8,917', '$9,500', '$1,246', '$6,435', '$8,800',\n       '$2,222', '$2,746', '$10,400', '$7,600', '$6,700', '$5,100',\n       '$13,200', '$4,300', '$1,407', '$12,400', '$5,401', '$7,800',\n       '$1,183', '$1,203', '$13,000', '$11,600', '$14,200', '$1,809',\n       '$8,400', '$8,700', '$11,000', '$5,201', '$1,801', '$3,499',\n       '$5,700', '$601', '$4,008', '$50', '$2,344', '$2,811', '$18,000',\n       '$1,777', '$3,599', '$9,800', '$796', '$3,150', '$20', '$1,810',\n       '$22', '$9,200', '$1,512', '$8,500', '$585', '$1,534', '$13,800',\n       '$5,001', '$4,238', '$16,400', '$1,347', '$2547', '$11,200'],\n      dtype=object)"
     },
     "metadata": {}
    }
   ]
  },
  {
   "cell_type": "code",
   "metadata": {
    "tags": [],
    "cell_id": "00006-a772a90b-12fd-4bcd-ab60-c8134eefc145",
    "deepnote_to_be_reexecuted": false,
    "source_hash": "88f69e92",
    "execution_start": 1620773543601,
    "execution_millis": 599,
    "deepnote_cell_type": "code"
   },
   "source": "df['air_date']= pd.to_datetime(df['air_date'])",
   "execution_count": 56,
   "outputs": []
  },
  {
   "cell_type": "code",
   "source": "df.head(30)",
   "metadata": {
    "tags": [],
    "cell_id": "00010-c171b5ee-b7fe-4349-a722-a8c250fba5a1",
    "deepnote_to_be_reexecuted": false,
    "source_hash": "679f8426",
    "execution_start": 1620773590474,
    "execution_millis": 96,
    "deepnote_cell_type": "code"
   },
   "outputs": [
    {
     "output_type": "execute_result",
     "execution_count": 59,
     "data": {
      "application/vnd.deepnote.dataframe.v2+json": {
       "row_count": 30,
       "column_count": 7,
       "columns": [
        {
         "name": "category",
         "dtype": "object",
         "stats": {
          "unique_count": 7,
          "nan_count": 0,
          "categories": [
           {
            "name": "HISTORY",
            "count": 5
           },
           {
            "name": "ESPN's TOP 10 ALL-TIME ATHLETES",
            "count": 5
           },
           {
            "name": "5 others",
            "count": 20
           }
          ]
         }
        },
        {
         "name": "air_date",
         "dtype": "datetime64[ns]",
         "stats": {
          "unique_count": 1,
          "nan_count": 0,
          "min": "2004-12-31 00:00:00",
          "max": "2004-12-31 00:00:00",
          "histogram": null
         }
        },
        {
         "name": "question",
         "dtype": "object",
         "stats": {
          "unique_count": 30,
          "nan_count": 0,
          "categories": [
           {
            "name": "'For the last 8 years of his life, Galileo was under house arrest for espousing this man's theory'",
            "count": 1
           },
           {
            "name": "'No. 2: 1912 Olympian; football star at Carlisle Indian School; 6 MLB seasons with the Reds, Giants & Braves'",
            "count": 1
           },
           {
            "name": "28 others",
            "count": 28
           }
          ]
         }
        },
        {
         "name": "value",
         "dtype": "object",
         "stats": {
          "unique_count": 6,
          "nan_count": 0,
          "categories": [
           {
            "name": "$400",
            "count": 7
           },
           {
            "name": "$200",
            "count": 6
           },
           {
            "name": "4 others",
            "count": 17
           }
          ]
         }
        },
        {
         "name": "answer",
         "dtype": "object",
         "stats": {
          "unique_count": 30,
          "nan_count": 0,
          "categories": [
           {
            "name": "Copernicus",
            "count": 1
           },
           {
            "name": "Jim Thorpe",
            "count": 1
           },
           {
            "name": "28 others",
            "count": 28
           }
          ]
         }
        },
        {
         "name": "round",
         "dtype": "object",
         "stats": {
          "unique_count": 2,
          "nan_count": 0,
          "categories": [
           {
            "name": "Jeopardy!",
            "count": 29
           },
           {
            "name": "Double Jeopardy!",
            "count": 1
           }
          ]
         }
        },
        {
         "name": "show_number",
         "dtype": "int64",
         "stats": {
          "unique_count": 1,
          "nan_count": 0,
          "min": "4680",
          "max": "4680",
          "histogram": [
           {
            "bin_start": 4679.5,
            "bin_end": 4679.6,
            "count": 0
           },
           {
            "bin_start": 4679.6,
            "bin_end": 4679.7,
            "count": 0
           },
           {
            "bin_start": 4679.7,
            "bin_end": 4679.8,
            "count": 0
           },
           {
            "bin_start": 4679.8,
            "bin_end": 4679.9,
            "count": 0
           },
           {
            "bin_start": 4679.9,
            "bin_end": 4680,
            "count": 0
           },
           {
            "bin_start": 4680,
            "bin_end": 4680.1,
            "count": 30
           },
           {
            "bin_start": 4680.1,
            "bin_end": 4680.2,
            "count": 0
           },
           {
            "bin_start": 4680.2,
            "bin_end": 4680.3,
            "count": 0
           },
           {
            "bin_start": 4680.3,
            "bin_end": 4680.4,
            "count": 0
           },
           {
            "bin_start": 4680.4,
            "bin_end": 4680.5,
            "count": 0
           }
          ]
         }
        },
        {
         "name": "_deepnote_index_column",
         "dtype": "int64"
        }
       ],
       "rows_top": [
        {
         "category": "HISTORY",
         "air_date": "2004-12-31T00:00:00.000000",
         "question": "'For the last 8 years of his life, Galileo was under house arrest for espousing this man's theory'",
         "value": "$200",
         "answer": "Copernicus",
         "round": "Jeopardy!",
         "show_number": 4680,
         "_deepnote_index_column": 0
        },
        {
         "category": "ESPN's TOP 10 ALL-TIME ATHLETES",
         "air_date": "2004-12-31T00:00:00.000000",
         "question": "'No. 2: 1912 Olympian; football star at Carlisle Indian School; 6 MLB seasons with the Reds, Giants & Braves'",
         "value": "$200",
         "answer": "Jim Thorpe",
         "round": "Jeopardy!",
         "show_number": 4680,
         "_deepnote_index_column": 1
        },
        {
         "category": "EVERYBODY TALKS ABOUT IT...",
         "air_date": "2004-12-31T00:00:00.000000",
         "question": "'The city of Yuma in this state has a record average of 4,055 hours of sunshine each year'",
         "value": "$200",
         "answer": "Arizona",
         "round": "Jeopardy!",
         "show_number": 4680,
         "_deepnote_index_column": 2
        },
        {
         "category": "THE COMPANY LINE",
         "air_date": "2004-12-31T00:00:00.000000",
         "question": "'In 1963, live on \"The Art Linkletter Show\", this company served its billionth burger'",
         "value": "$200",
         "answer": "McDonald\\'s",
         "round": "Jeopardy!",
         "show_number": 4680,
         "_deepnote_index_column": 3
        },
        {
         "category": "EPITAPHS & TRIBUTES",
         "air_date": "2004-12-31T00:00:00.000000",
         "question": "'Signer of the Dec. of Indep., framer of the Constitution of Mass., second President of the United States'",
         "value": "$200",
         "answer": "John Adams",
         "round": "Jeopardy!",
         "show_number": 4680,
         "_deepnote_index_column": 4
        },
        {
         "category": "3-LETTER WORDS",
         "air_date": "2004-12-31T00:00:00.000000",
         "question": "'In the title of an Aesop fable, this insect shared billing with a grasshopper'",
         "value": "$200",
         "answer": "the ant",
         "round": "Jeopardy!",
         "show_number": 4680,
         "_deepnote_index_column": 5
        },
        {
         "category": "HISTORY",
         "air_date": "2004-12-31T00:00:00.000000",
         "question": "'Built in 312 B.C. to link Rome & the South of Italy, it's still in use today'",
         "value": "$400",
         "answer": "the Appian Way",
         "round": "Jeopardy!",
         "show_number": 4680,
         "_deepnote_index_column": 6
        },
        {
         "category": "ESPN's TOP 10 ALL-TIME ATHLETES",
         "air_date": "2004-12-31T00:00:00.000000",
         "question": "'No. 8: 30 steals for the Birmingham Barons; 2,306 steals for the Bulls'",
         "value": "$400",
         "answer": "Michael Jordan",
         "round": "Jeopardy!",
         "show_number": 4680,
         "_deepnote_index_column": 7
        },
        {
         "category": "EVERYBODY TALKS ABOUT IT...",
         "air_date": "2004-12-31T00:00:00.000000",
         "question": "'In the winter of 1971-72, a record 1,122 inches of snow fell at Rainier Paradise Ranger Station in this state'",
         "value": "$400",
         "answer": "Washington",
         "round": "Jeopardy!",
         "show_number": 4680,
         "_deepnote_index_column": 8
        },
        {
         "category": "THE COMPANY LINE",
         "air_date": "2004-12-31T00:00:00.000000",
         "question": "'This housewares store was named for the packaging its merchandise came in & was first displayed on'",
         "value": "$400",
         "answer": "Crate & Barrel",
         "round": "Jeopardy!",
         "show_number": 4680,
         "_deepnote_index_column": 9
        },
        {
         "category": "EPITAPHS & TRIBUTES",
         "air_date": "2004-12-31T00:00:00.000000",
         "question": "'\"And away we go\"'",
         "value": "$400",
         "answer": "Jackie Gleason",
         "round": "Jeopardy!",
         "show_number": 4680,
         "_deepnote_index_column": 10
        },
        {
         "category": "3-LETTER WORDS",
         "air_date": "2004-12-31T00:00:00.000000",
         "question": "'Cows regurgitate this from the first stomach to the mouth & chew it again'",
         "value": "$400",
         "answer": "the cud",
         "round": "Jeopardy!",
         "show_number": 4680,
         "_deepnote_index_column": 11
        },
        {
         "category": "HISTORY",
         "air_date": "2004-12-31T00:00:00.000000",
         "question": "'In 1000 Rajaraja I of the Cholas battled to take this Indian Ocean island now known for its tea'",
         "value": "$600",
         "answer": "Ceylon (or Sri Lanka)",
         "round": "Jeopardy!",
         "show_number": 4680,
         "_deepnote_index_column": 12
        },
        {
         "category": "ESPN's TOP 10 ALL-TIME ATHLETES",
         "air_date": "2004-12-31T00:00:00.000000",
         "question": "'No. 1: Lettered in hoops, football & lacrosse at Syracuse & if you think he couldn't act, ask his 11 \"unclean\" buddies'",
         "value": "$600",
         "answer": "Jim Brown",
         "round": "Jeopardy!",
         "show_number": 4680,
         "_deepnote_index_column": 13
        },
        {
         "category": "EVERYBODY TALKS ABOUT IT...",
         "air_date": "2004-12-31T00:00:00.000000",
         "question": "'On June 28, 1994 the nat'l weather service began issuing this index that rates the intensity of the sun's radiation'",
         "value": "$600",
         "answer": "the UV index",
         "round": "Jeopardy!",
         "show_number": 4680,
         "_deepnote_index_column": 14
        },
        {
         "category": "THE COMPANY LINE",
         "air_date": "2004-12-31T00:00:00.000000",
         "question": "'This company's Accutron watch, introduced in 1960, had a guarantee of accuracy to within one minute a  month'",
         "value": "$600",
         "answer": "Bulova",
         "round": "Jeopardy!",
         "show_number": 4680,
         "_deepnote_index_column": 15
        },
        {
         "category": "EPITAPHS & TRIBUTES",
         "air_date": "2004-12-31T00:00:00.000000",
         "question": "'Outlaw: \"Murdered by a traitor and a coward whose name is not worthy to appear here\"'",
         "value": "$600",
         "answer": "Jesse James",
         "round": "Jeopardy!",
         "show_number": 4680,
         "_deepnote_index_column": 16
        },
        {
         "category": "3-LETTER WORDS",
         "air_date": "2004-12-31T00:00:00.000000",
         "question": "'A small demon, or a mischievous child (who might be a little demon!)'",
         "value": "$600",
         "answer": "imp",
         "round": "Jeopardy!",
         "show_number": 4680,
         "_deepnote_index_column": 17
        },
        {
         "category": "HISTORY",
         "air_date": "2004-12-31T00:00:00.000000",
         "question": "'Karl led the first of these Marxist organizational efforts; the second one began in 1889'",
         "value": "$800",
         "answer": "the International",
         "round": "Jeopardy!",
         "show_number": 4680,
         "_deepnote_index_column": 18
        },
        {
         "category": "ESPN's TOP 10 ALL-TIME ATHLETES",
         "air_date": "2004-12-31T00:00:00.000000",
         "question": "'No. 10: FB/LB for Columbia U. in the 1920s; MVP for the Yankees in '27 & '36; \"Gibraltar in Cleats\"'",
         "value": "$800",
         "answer": "(Lou) Gehrig",
         "round": "Jeopardy!",
         "show_number": 4680,
         "_deepnote_index_column": 19
        },
        {
         "category": "EVERYBODY TALKS ABOUT IT...",
         "air_date": "2004-12-31T00:00:00.000000",
         "question": "'Africa's lowest temperature was 11 degrees below zero in 1935 at Ifrane, just south of Fez in this country'",
         "value": "$800",
         "answer": "Morocco",
         "round": "Jeopardy!",
         "show_number": 4680,
         "_deepnote_index_column": 20
        },
        {
         "category": "THE COMPANY LINE",
         "air_date": "2004-12-31T00:00:00.000000",
         "question": "'Edward Teller & this man partnered in 1898 to sell high fashions to women'",
         "value": "$800",
         "answer": "(Paul) Bonwit",
         "round": "Jeopardy!",
         "show_number": 4680,
         "_deepnote_index_column": 21
        },
        {
         "category": "EPITAPHS & TRIBUTES",
         "air_date": "2004-12-31T00:00:00.000000",
         "question": "'1939 Oscar winner: \"...you are a credit to your craft, your race and to your family\"'",
         "value": "$2,000",
         "answer": "Hattie McDaniel (for her role in Gone with the Wind)",
         "round": "Jeopardy!",
         "show_number": 4680,
         "_deepnote_index_column": 22
        },
        {
         "category": "3-LETTER WORDS",
         "air_date": "2004-12-31T00:00:00.000000",
         "question": "'In geologic time one of these, shorter than an eon, is divided into periods & subdivided into epochs'",
         "value": "$800",
         "answer": "era",
         "round": "Jeopardy!",
         "show_number": 4680,
         "_deepnote_index_column": 23
        },
        {
         "category": "HISTORY",
         "air_date": "2004-12-31T00:00:00.000000",
         "question": "'This Asian political party was founded in 1885 with \"Indian National\" as part of its name'",
         "value": "$1000",
         "answer": "the Congress Party",
         "round": "Jeopardy!",
         "show_number": 4680,
         "_deepnote_index_column": 24
        },
        {
         "category": "ESPN's TOP 10 ALL-TIME ATHLETES",
         "air_date": "2004-12-31T00:00:00.000000",
         "question": "'No. 5: Only center to lead the NBA in assists; track scholarship to Kansas U.; marathoner; volleyballer'",
         "value": "$1000",
         "answer": "(Wilt) Chamberlain",
         "round": "Jeopardy!",
         "show_number": 4680,
         "_deepnote_index_column": 25
        },
        {
         "category": "THE COMPANY LINE",
         "air_date": "2004-12-31T00:00:00.000000",
         "question": "'The Kirschner brothers, Don & Bill, named this ski company for themselves & the second-highest mountain'",
         "value": "$1000",
         "answer": "K2",
         "round": "Jeopardy!",
         "show_number": 4680,
         "_deepnote_index_column": 26
        },
        {
         "category": "EPITAPHS & TRIBUTES",
         "air_date": "2004-12-31T00:00:00.000000",
         "question": "'Revolutionary War hero: \"His spirit is in Vermont now\"'",
         "value": "$1000",
         "answer": "Ethan Allen",
         "round": "Jeopardy!",
         "show_number": 4680,
         "_deepnote_index_column": 27
        },
        {
         "category": "3-LETTER WORDS",
         "air_date": "2004-12-31T00:00:00.000000",
         "question": "'A single layer of paper, or to perform one's craft diligently'",
         "value": "$1000",
         "answer": "ply",
         "round": "Jeopardy!",
         "show_number": 4680,
         "_deepnote_index_column": 28
        },
        {
         "category": "DR. SEUSS AT THE MULTIPLEX",
         "air_date": "2004-12-31T00:00:00.000000",
         "question": "'<a href=\"http://www.j-archive.com/media/2004-12-31_DJ_23.mp3\">Beyond ovoid abandonment, beyond ovoid betrayal... you won't believe the ending when he \"Hatches the Egg\"</a>'",
         "value": "$400",
         "answer": "Horton",
         "round": "Double Jeopardy!",
         "show_number": 4680,
         "_deepnote_index_column": 29
        }
       ],
       "rows_bottom": null
      },
      "text/plain": "                           category   air_date  \\\n0                           HISTORY 2004-12-31   \n1   ESPN's TOP 10 ALL-TIME ATHLETES 2004-12-31   \n2       EVERYBODY TALKS ABOUT IT... 2004-12-31   \n3                  THE COMPANY LINE 2004-12-31   \n4               EPITAPHS & TRIBUTES 2004-12-31   \n5                    3-LETTER WORDS 2004-12-31   \n6                           HISTORY 2004-12-31   \n7   ESPN's TOP 10 ALL-TIME ATHLETES 2004-12-31   \n8       EVERYBODY TALKS ABOUT IT... 2004-12-31   \n9                  THE COMPANY LINE 2004-12-31   \n10              EPITAPHS & TRIBUTES 2004-12-31   \n11                   3-LETTER WORDS 2004-12-31   \n12                          HISTORY 2004-12-31   \n13  ESPN's TOP 10 ALL-TIME ATHLETES 2004-12-31   \n14      EVERYBODY TALKS ABOUT IT... 2004-12-31   \n15                 THE COMPANY LINE 2004-12-31   \n16              EPITAPHS & TRIBUTES 2004-12-31   \n17                   3-LETTER WORDS 2004-12-31   \n18                          HISTORY 2004-12-31   \n19  ESPN's TOP 10 ALL-TIME ATHLETES 2004-12-31   \n20      EVERYBODY TALKS ABOUT IT... 2004-12-31   \n21                 THE COMPANY LINE 2004-12-31   \n22              EPITAPHS & TRIBUTES 2004-12-31   \n23                   3-LETTER WORDS 2004-12-31   \n24                          HISTORY 2004-12-31   \n25  ESPN's TOP 10 ALL-TIME ATHLETES 2004-12-31   \n26                 THE COMPANY LINE 2004-12-31   \n27              EPITAPHS & TRIBUTES 2004-12-31   \n28                   3-LETTER WORDS 2004-12-31   \n29       DR. SEUSS AT THE MULTIPLEX 2004-12-31   \n\n                                             question   value  \\\n0   'For the last 8 years of his life, Galileo was...    $200   \n1   'No. 2: 1912 Olympian; football star at Carlis...    $200   \n2   'The city of Yuma in this state has a record a...    $200   \n3   'In 1963, live on \"The Art Linkletter Show\", t...    $200   \n4   'Signer of the Dec. of Indep., framer of the C...    $200   \n5   'In the title of an Aesop fable, this insect s...    $200   \n6   'Built in 312 B.C. to link Rome & the South of...    $400   \n7   'No. 8: 30 steals for the Birmingham Barons; 2...    $400   \n8   'In the winter of 1971-72, a record 1,122 inch...    $400   \n9   'This housewares store was named for the packa...    $400   \n10                                 '\"And away we go\"'    $400   \n11  'Cows regurgitate this from the first stomach ...    $400   \n12  'In 1000 Rajaraja I of the Cholas battled to t...    $600   \n13  'No. 1: Lettered in hoops, football & lacrosse...    $600   \n14  'On June 28, 1994 the nat'l weather service be...    $600   \n15  'This company's Accutron watch, introduced in ...    $600   \n16  'Outlaw: \"Murdered by a traitor and a coward w...    $600   \n17  'A small demon, or a mischievous child (who mi...    $600   \n18  'Karl led the first of these Marxist organizat...    $800   \n19  'No. 10: FB/LB for Columbia U. in the 1920s; M...    $800   \n20  'Africa's lowest temperature was 11 degrees be...    $800   \n21  'Edward Teller & this man partnered in 1898 to...    $800   \n22  '1939 Oscar winner: \"...you are a credit to yo...  $2,000   \n23  'In geologic time one of these, shorter than a...    $800   \n24  'This Asian political party was founded in 188...   $1000   \n25  'No. 5: Only center to lead the NBA in assists...   $1000   \n26  'The Kirschner brothers, Don & Bill, named thi...   $1000   \n27  'Revolutionary War hero: \"His spirit is in Ver...   $1000   \n28  'A single layer of paper, or to perform one's ...   $1000   \n29  '<a href=\"http://www.j-archive.com/media/2004-...    $400   \n\n                                               answer             round  \\\n0                                          Copernicus         Jeopardy!   \n1                                          Jim Thorpe         Jeopardy!   \n2                                             Arizona         Jeopardy!   \n3                                         McDonald\\'s         Jeopardy!   \n4                                          John Adams         Jeopardy!   \n5                                             the ant         Jeopardy!   \n6                                      the Appian Way         Jeopardy!   \n7                                      Michael Jordan         Jeopardy!   \n8                                          Washington         Jeopardy!   \n9                                      Crate & Barrel         Jeopardy!   \n10                                     Jackie Gleason         Jeopardy!   \n11                                            the cud         Jeopardy!   \n12                              Ceylon (or Sri Lanka)         Jeopardy!   \n13                                          Jim Brown         Jeopardy!   \n14                                       the UV index         Jeopardy!   \n15                                             Bulova         Jeopardy!   \n16                                        Jesse James         Jeopardy!   \n17                                                imp         Jeopardy!   \n18                                  the International         Jeopardy!   \n19                                       (Lou) Gehrig         Jeopardy!   \n20                                            Morocco         Jeopardy!   \n21                                      (Paul) Bonwit         Jeopardy!   \n22  Hattie McDaniel (for her role in Gone with the...         Jeopardy!   \n23                                                era         Jeopardy!   \n24                                 the Congress Party         Jeopardy!   \n25                                 (Wilt) Chamberlain         Jeopardy!   \n26                                                 K2         Jeopardy!   \n27                                        Ethan Allen         Jeopardy!   \n28                                                ply         Jeopardy!   \n29                                             Horton  Double Jeopardy!   \n\n    show_number  \n0          4680  \n1          4680  \n2          4680  \n3          4680  \n4          4680  \n5          4680  \n6          4680  \n7          4680  \n8          4680  \n9          4680  \n10         4680  \n11         4680  \n12         4680  \n13         4680  \n14         4680  \n15         4680  \n16         4680  \n17         4680  \n18         4680  \n19         4680  \n20         4680  \n21         4680  \n22         4680  \n23         4680  \n24         4680  \n25         4680  \n26         4680  \n27         4680  \n28         4680  \n29         4680  ",
      "text/html": "<div>\n<style scoped>\n    .dataframe tbody tr th:only-of-type {\n        vertical-align: middle;\n    }\n\n    .dataframe tbody tr th {\n        vertical-align: top;\n    }\n\n    .dataframe thead th {\n        text-align: right;\n    }\n</style>\n<table border=\"1\" class=\"dataframe\">\n  <thead>\n    <tr style=\"text-align: right;\">\n      <th></th>\n      <th>category</th>\n      <th>air_date</th>\n      <th>question</th>\n      <th>value</th>\n      <th>answer</th>\n      <th>round</th>\n      <th>show_number</th>\n    </tr>\n  </thead>\n  <tbody>\n    <tr>\n      <th>0</th>\n      <td>HISTORY</td>\n      <td>2004-12-31</td>\n      <td>'For the last 8 years of his life, Galileo was...</td>\n      <td>$200</td>\n      <td>Copernicus</td>\n      <td>Jeopardy!</td>\n      <td>4680</td>\n    </tr>\n    <tr>\n      <th>1</th>\n      <td>ESPN's TOP 10 ALL-TIME ATHLETES</td>\n      <td>2004-12-31</td>\n      <td>'No. 2: 1912 Olympian; football star at Carlis...</td>\n      <td>$200</td>\n      <td>Jim Thorpe</td>\n      <td>Jeopardy!</td>\n      <td>4680</td>\n    </tr>\n    <tr>\n      <th>2</th>\n      <td>EVERYBODY TALKS ABOUT IT...</td>\n      <td>2004-12-31</td>\n      <td>'The city of Yuma in this state has a record a...</td>\n      <td>$200</td>\n      <td>Arizona</td>\n      <td>Jeopardy!</td>\n      <td>4680</td>\n    </tr>\n    <tr>\n      <th>3</th>\n      <td>THE COMPANY LINE</td>\n      <td>2004-12-31</td>\n      <td>'In 1963, live on \"The Art Linkletter Show\", t...</td>\n      <td>$200</td>\n      <td>McDonald\\'s</td>\n      <td>Jeopardy!</td>\n      <td>4680</td>\n    </tr>\n    <tr>\n      <th>4</th>\n      <td>EPITAPHS &amp; TRIBUTES</td>\n      <td>2004-12-31</td>\n      <td>'Signer of the Dec. of Indep., framer of the C...</td>\n      <td>$200</td>\n      <td>John Adams</td>\n      <td>Jeopardy!</td>\n      <td>4680</td>\n    </tr>\n    <tr>\n      <th>5</th>\n      <td>3-LETTER WORDS</td>\n      <td>2004-12-31</td>\n      <td>'In the title of an Aesop fable, this insect s...</td>\n      <td>$200</td>\n      <td>the ant</td>\n      <td>Jeopardy!</td>\n      <td>4680</td>\n    </tr>\n    <tr>\n      <th>6</th>\n      <td>HISTORY</td>\n      <td>2004-12-31</td>\n      <td>'Built in 312 B.C. to link Rome &amp; the South of...</td>\n      <td>$400</td>\n      <td>the Appian Way</td>\n      <td>Jeopardy!</td>\n      <td>4680</td>\n    </tr>\n    <tr>\n      <th>7</th>\n      <td>ESPN's TOP 10 ALL-TIME ATHLETES</td>\n      <td>2004-12-31</td>\n      <td>'No. 8: 30 steals for the Birmingham Barons; 2...</td>\n      <td>$400</td>\n      <td>Michael Jordan</td>\n      <td>Jeopardy!</td>\n      <td>4680</td>\n    </tr>\n    <tr>\n      <th>8</th>\n      <td>EVERYBODY TALKS ABOUT IT...</td>\n      <td>2004-12-31</td>\n      <td>'In the winter of 1971-72, a record 1,122 inch...</td>\n      <td>$400</td>\n      <td>Washington</td>\n      <td>Jeopardy!</td>\n      <td>4680</td>\n    </tr>\n    <tr>\n      <th>9</th>\n      <td>THE COMPANY LINE</td>\n      <td>2004-12-31</td>\n      <td>'This housewares store was named for the packa...</td>\n      <td>$400</td>\n      <td>Crate &amp; Barrel</td>\n      <td>Jeopardy!</td>\n      <td>4680</td>\n    </tr>\n    <tr>\n      <th>10</th>\n      <td>EPITAPHS &amp; TRIBUTES</td>\n      <td>2004-12-31</td>\n      <td>'\"And away we go\"'</td>\n      <td>$400</td>\n      <td>Jackie Gleason</td>\n      <td>Jeopardy!</td>\n      <td>4680</td>\n    </tr>\n    <tr>\n      <th>11</th>\n      <td>3-LETTER WORDS</td>\n      <td>2004-12-31</td>\n      <td>'Cows regurgitate this from the first stomach ...</td>\n      <td>$400</td>\n      <td>the cud</td>\n      <td>Jeopardy!</td>\n      <td>4680</td>\n    </tr>\n    <tr>\n      <th>12</th>\n      <td>HISTORY</td>\n      <td>2004-12-31</td>\n      <td>'In 1000 Rajaraja I of the Cholas battled to t...</td>\n      <td>$600</td>\n      <td>Ceylon (or Sri Lanka)</td>\n      <td>Jeopardy!</td>\n      <td>4680</td>\n    </tr>\n    <tr>\n      <th>13</th>\n      <td>ESPN's TOP 10 ALL-TIME ATHLETES</td>\n      <td>2004-12-31</td>\n      <td>'No. 1: Lettered in hoops, football &amp; lacrosse...</td>\n      <td>$600</td>\n      <td>Jim Brown</td>\n      <td>Jeopardy!</td>\n      <td>4680</td>\n    </tr>\n    <tr>\n      <th>14</th>\n      <td>EVERYBODY TALKS ABOUT IT...</td>\n      <td>2004-12-31</td>\n      <td>'On June 28, 1994 the nat'l weather service be...</td>\n      <td>$600</td>\n      <td>the UV index</td>\n      <td>Jeopardy!</td>\n      <td>4680</td>\n    </tr>\n    <tr>\n      <th>15</th>\n      <td>THE COMPANY LINE</td>\n      <td>2004-12-31</td>\n      <td>'This company's Accutron watch, introduced in ...</td>\n      <td>$600</td>\n      <td>Bulova</td>\n      <td>Jeopardy!</td>\n      <td>4680</td>\n    </tr>\n    <tr>\n      <th>16</th>\n      <td>EPITAPHS &amp; TRIBUTES</td>\n      <td>2004-12-31</td>\n      <td>'Outlaw: \"Murdered by a traitor and a coward w...</td>\n      <td>$600</td>\n      <td>Jesse James</td>\n      <td>Jeopardy!</td>\n      <td>4680</td>\n    </tr>\n    <tr>\n      <th>17</th>\n      <td>3-LETTER WORDS</td>\n      <td>2004-12-31</td>\n      <td>'A small demon, or a mischievous child (who mi...</td>\n      <td>$600</td>\n      <td>imp</td>\n      <td>Jeopardy!</td>\n      <td>4680</td>\n    </tr>\n    <tr>\n      <th>18</th>\n      <td>HISTORY</td>\n      <td>2004-12-31</td>\n      <td>'Karl led the first of these Marxist organizat...</td>\n      <td>$800</td>\n      <td>the International</td>\n      <td>Jeopardy!</td>\n      <td>4680</td>\n    </tr>\n    <tr>\n      <th>19</th>\n      <td>ESPN's TOP 10 ALL-TIME ATHLETES</td>\n      <td>2004-12-31</td>\n      <td>'No. 10: FB/LB for Columbia U. in the 1920s; M...</td>\n      <td>$800</td>\n      <td>(Lou) Gehrig</td>\n      <td>Jeopardy!</td>\n      <td>4680</td>\n    </tr>\n    <tr>\n      <th>20</th>\n      <td>EVERYBODY TALKS ABOUT IT...</td>\n      <td>2004-12-31</td>\n      <td>'Africa's lowest temperature was 11 degrees be...</td>\n      <td>$800</td>\n      <td>Morocco</td>\n      <td>Jeopardy!</td>\n      <td>4680</td>\n    </tr>\n    <tr>\n      <th>21</th>\n      <td>THE COMPANY LINE</td>\n      <td>2004-12-31</td>\n      <td>'Edward Teller &amp; this man partnered in 1898 to...</td>\n      <td>$800</td>\n      <td>(Paul) Bonwit</td>\n      <td>Jeopardy!</td>\n      <td>4680</td>\n    </tr>\n    <tr>\n      <th>22</th>\n      <td>EPITAPHS &amp; TRIBUTES</td>\n      <td>2004-12-31</td>\n      <td>'1939 Oscar winner: \"...you are a credit to yo...</td>\n      <td>$2,000</td>\n      <td>Hattie McDaniel (for her role in Gone with the...</td>\n      <td>Jeopardy!</td>\n      <td>4680</td>\n    </tr>\n    <tr>\n      <th>23</th>\n      <td>3-LETTER WORDS</td>\n      <td>2004-12-31</td>\n      <td>'In geologic time one of these, shorter than a...</td>\n      <td>$800</td>\n      <td>era</td>\n      <td>Jeopardy!</td>\n      <td>4680</td>\n    </tr>\n    <tr>\n      <th>24</th>\n      <td>HISTORY</td>\n      <td>2004-12-31</td>\n      <td>'This Asian political party was founded in 188...</td>\n      <td>$1000</td>\n      <td>the Congress Party</td>\n      <td>Jeopardy!</td>\n      <td>4680</td>\n    </tr>\n    <tr>\n      <th>25</th>\n      <td>ESPN's TOP 10 ALL-TIME ATHLETES</td>\n      <td>2004-12-31</td>\n      <td>'No. 5: Only center to lead the NBA in assists...</td>\n      <td>$1000</td>\n      <td>(Wilt) Chamberlain</td>\n      <td>Jeopardy!</td>\n      <td>4680</td>\n    </tr>\n    <tr>\n      <th>26</th>\n      <td>THE COMPANY LINE</td>\n      <td>2004-12-31</td>\n      <td>'The Kirschner brothers, Don &amp; Bill, named thi...</td>\n      <td>$1000</td>\n      <td>K2</td>\n      <td>Jeopardy!</td>\n      <td>4680</td>\n    </tr>\n    <tr>\n      <th>27</th>\n      <td>EPITAPHS &amp; TRIBUTES</td>\n      <td>2004-12-31</td>\n      <td>'Revolutionary War hero: \"His spirit is in Ver...</td>\n      <td>$1000</td>\n      <td>Ethan Allen</td>\n      <td>Jeopardy!</td>\n      <td>4680</td>\n    </tr>\n    <tr>\n      <th>28</th>\n      <td>3-LETTER WORDS</td>\n      <td>2004-12-31</td>\n      <td>'A single layer of paper, or to perform one's ...</td>\n      <td>$1000</td>\n      <td>ply</td>\n      <td>Jeopardy!</td>\n      <td>4680</td>\n    </tr>\n    <tr>\n      <th>29</th>\n      <td>DR. SEUSS AT THE MULTIPLEX</td>\n      <td>2004-12-31</td>\n      <td>'&lt;a href=\"http://www.j-archive.com/media/2004-...</td>\n      <td>$400</td>\n      <td>Horton</td>\n      <td>Double Jeopardy!</td>\n      <td>4680</td>\n    </tr>\n  </tbody>\n</table>\n</div>"
     },
     "metadata": {}
    }
   ],
   "execution_count": 59
  },
  {
   "cell_type": "code",
   "metadata": {
    "tags": [],
    "cell_id": "00008-6b191502-a8c0-4dab-b1a8-9da47ecc8589",
    "deepnote_to_be_reexecuted": false,
    "source_hash": "f0e91f4b",
    "execution_start": 1620344203901,
    "execution_millis": 9,
    "deepnote_cell_type": "code"
   },
   "source": "\n# first round values, earliest show in data\n# could also do show_number==1\ndf['air_date'].min(), df[(df['air_date']==df['air_date'].min()) & (df['round']=='Jeopardy!')]['value'].value_counts()",
   "execution_count": null,
   "outputs": [
    {
     "output_type": "execute_result",
     "execution_count": 11,
     "data": {
      "text/plain": "(Timestamp('1984-09-10 00:00:00'),\n $100    5\n $200    5\n $400    5\n $300    4\n $500    3\n $800    1\n Name: value, dtype: int64)"
     },
     "metadata": {}
    }
   ]
  },
  {
   "cell_type": "code",
   "metadata": {
    "tags": [],
    "cell_id": "00008-47bfdc94-b39a-44c8-a93c-6ab746cdccee",
    "deepnote_to_be_reexecuted": false,
    "source_hash": "b57a79b1",
    "execution_start": 1620344205338,
    "execution_millis": 64,
    "deepnote_cell_type": "code"
   },
   "source": "# example final jeopardy row, last show in data\ndf[(df['show_number']==4999) & (df['round']=='Final Jeopardy!')]",
   "execution_count": null,
   "outputs": [
    {
     "output_type": "execute_result",
     "execution_count": 12,
     "data": {
      "application/vnd.deepnote.dataframe.v2+json": {
       "row_count": 1,
       "column_count": 7,
       "columns": [
        {
         "name": "category",
         "dtype": "object",
         "stats": {
          "unique_count": 1,
          "nan_count": 0,
          "categories": [
           {
            "name": "HISTORIC NAMES",
            "count": 1
           }
          ]
         }
        },
        {
         "name": "air_date",
         "dtype": "datetime64[ns]",
         "stats": {
          "unique_count": 1,
          "nan_count": 0,
          "min": "2006-05-11 00:00:00",
          "max": "2006-05-11 00:00:00",
          "histogram": null
         }
        },
        {
         "name": "question",
         "dtype": "object",
         "stats": {
          "unique_count": 1,
          "nan_count": 0,
          "categories": [
           {
            "name": "'A silent movie title includes the last name of this 18th c. statesman & favorite of Catherine the Great'",
            "count": 1
           }
          ]
         }
        },
        {
         "name": "value",
         "dtype": "object",
         "stats": {
          "unique_count": 0,
          "nan_count": 1,
          "categories": [
           {
            "name": "Missing",
            "count": 1
           }
          ]
         }
        },
        {
         "name": "answer",
         "dtype": "object",
         "stats": {
          "unique_count": 1,
          "nan_count": 0,
          "categories": [
           {
            "name": "Grigori Alexandrovich Potemkin",
            "count": 1
           }
          ]
         }
        },
        {
         "name": "round",
         "dtype": "object",
         "stats": {
          "unique_count": 1,
          "nan_count": 0,
          "categories": [
           {
            "name": "Final Jeopardy!",
            "count": 1
           }
          ]
         }
        },
        {
         "name": "show_number",
         "dtype": "int64",
         "stats": {
          "unique_count": 1,
          "nan_count": 0,
          "min": "4999",
          "max": "4999",
          "histogram": [
           {
            "bin_start": 4998.5,
            "bin_end": 4998.6,
            "count": 0
           },
           {
            "bin_start": 4998.6,
            "bin_end": 4998.7,
            "count": 0
           },
           {
            "bin_start": 4998.7,
            "bin_end": 4998.8,
            "count": 0
           },
           {
            "bin_start": 4998.8,
            "bin_end": 4998.9,
            "count": 0
           },
           {
            "bin_start": 4998.9,
            "bin_end": 4999,
            "count": 0
           },
           {
            "bin_start": 4999,
            "bin_end": 4999.1,
            "count": 1
           },
           {
            "bin_start": 4999.1,
            "bin_end": 4999.2,
            "count": 0
           },
           {
            "bin_start": 4999.2,
            "bin_end": 4999.3,
            "count": 0
           },
           {
            "bin_start": 4999.3,
            "bin_end": 4999.4,
            "count": 0
           },
           {
            "bin_start": 4999.4,
            "bin_end": 4999.5,
            "count": 0
           }
          ]
         }
        },
        {
         "name": "_deepnote_index_column",
         "dtype": "int64"
        }
       ],
       "rows_top": [
        {
         "category": "HISTORIC NAMES",
         "air_date": "2006-05-11T00:00:00.000000",
         "question": "'A silent movie title includes the last name of this 18th c. statesman & favorite of Catherine the Great'",
         "value": "nan",
         "answer": "Grigori Alexandrovich Potemkin",
         "round": "Final Jeopardy!",
         "show_number": 4999,
         "_deepnote_index_column": 216929
        }
       ],
       "rows_bottom": null
      },
      "text/plain": "              category   air_date  \\\n216929  HISTORIC NAMES 2006-05-11   \n\n                                                 question value  \\\n216929  'A silent movie title includes the last name o...  None   \n\n                                answer            round  show_number  \n216929  Grigori Alexandrovich Potemkin  Final Jeopardy!         4999  ",
      "text/html": "<div>\n<style scoped>\n    .dataframe tbody tr th:only-of-type {\n        vertical-align: middle;\n    }\n\n    .dataframe tbody tr th {\n        vertical-align: top;\n    }\n\n    .dataframe thead th {\n        text-align: right;\n    }\n</style>\n<table border=\"1\" class=\"dataframe\">\n  <thead>\n    <tr style=\"text-align: right;\">\n      <th></th>\n      <th>category</th>\n      <th>air_date</th>\n      <th>question</th>\n      <th>value</th>\n      <th>answer</th>\n      <th>round</th>\n      <th>show_number</th>\n    </tr>\n  </thead>\n  <tbody>\n    <tr>\n      <th>216929</th>\n      <td>HISTORIC NAMES</td>\n      <td>2006-05-11</td>\n      <td>'A silent movie title includes the last name o...</td>\n      <td>None</td>\n      <td>Grigori Alexandrovich Potemkin</td>\n      <td>Final Jeopardy!</td>\n      <td>4999</td>\n    </tr>\n  </tbody>\n</table>\n</div>"
     },
     "metadata": {}
    }
   ]
  },
  {
   "cell_type": "code",
   "metadata": {
    "tags": [],
    "cell_id": "00010-6a2ef9f7-2ec6-44bd-80aa-ca1987e91ecd",
    "deepnote_to_be_reexecuted": false,
    "source_hash": "6e16436b",
    "execution_start": 1620344563761,
    "execution_millis": 654,
    "deepnote_cell_type": "code"
   },
   "source": "# Existing category counts, desc\ndf.groupby('category').count()[['round']].sort_values(by=['round'], ascending=False).head(10)",
   "execution_count": null,
   "outputs": [
    {
     "output_type": "execute_result",
     "execution_count": 21,
     "data": {
      "application/vnd.deepnote.dataframe.v2+json": {
       "row_count": 10,
       "column_count": 1,
       "columns": [
        {
         "name": "round",
         "dtype": "int64",
         "stats": {
          "unique_count": 10,
          "nan_count": 0,
          "min": "342",
          "max": "547",
          "histogram": [
           {
            "bin_start": 342,
            "bin_end": 362.5,
            "count": 3
           },
           {
            "bin_start": 362.5,
            "bin_end": 383,
            "count": 2
           },
           {
            "bin_start": 383,
            "bin_end": 403.5,
            "count": 1
           },
           {
            "bin_start": 403.5,
            "bin_end": 424,
            "count": 1
           },
           {
            "bin_start": 424,
            "bin_end": 444.5,
            "count": 0
           },
           {
            "bin_start": 444.5,
            "bin_end": 465,
            "count": 0
           },
           {
            "bin_start": 465,
            "bin_end": 485.5,
            "count": 0
           },
           {
            "bin_start": 485.5,
            "bin_end": 506,
            "count": 1
           },
           {
            "bin_start": 506,
            "bin_end": 526.5,
            "count": 1
           },
           {
            "bin_start": 526.5,
            "bin_end": 547,
            "count": 1
           }
          ]
         }
        },
        {
         "name": "_deepnote_index_column",
         "dtype": "object"
        }
       ],
       "rows_top": [
        {
         "round": 547,
         "_deepnote_index_column": "BEFORE & AFTER"
        },
        {
         "round": 519,
         "_deepnote_index_column": "SCIENCE"
        },
        {
         "round": 496,
         "_deepnote_index_column": "LITERATURE"
        },
        {
         "round": 418,
         "_deepnote_index_column": "AMERICAN HISTORY"
        },
        {
         "round": 401,
         "_deepnote_index_column": "POTPOURRI"
        },
        {
         "round": 377,
         "_deepnote_index_column": "WORLD HISTORY"
        },
        {
         "round": 371,
         "_deepnote_index_column": "WORD ORIGINS"
        },
        {
         "round": 351,
         "_deepnote_index_column": "COLLEGES & UNIVERSITIES"
        },
        {
         "round": 349,
         "_deepnote_index_column": "HISTORY"
        },
        {
         "round": 342,
         "_deepnote_index_column": "SPORTS"
        }
       ],
       "rows_bottom": null
      },
      "text/plain": "                         round\ncategory                      \nBEFORE & AFTER             547\nSCIENCE                    519\nLITERATURE                 496\nAMERICAN HISTORY           418\nPOTPOURRI                  401\nWORLD HISTORY              377\nWORD ORIGINS               371\nCOLLEGES & UNIVERSITIES    351\nHISTORY                    349\nSPORTS                     342",
      "text/html": "<div>\n<style scoped>\n    .dataframe tbody tr th:only-of-type {\n        vertical-align: middle;\n    }\n\n    .dataframe tbody tr th {\n        vertical-align: top;\n    }\n\n    .dataframe thead th {\n        text-align: right;\n    }\n</style>\n<table border=\"1\" class=\"dataframe\">\n  <thead>\n    <tr style=\"text-align: right;\">\n      <th></th>\n      <th>round</th>\n    </tr>\n    <tr>\n      <th>category</th>\n      <th></th>\n    </tr>\n  </thead>\n  <tbody>\n    <tr>\n      <th>BEFORE &amp; AFTER</th>\n      <td>547</td>\n    </tr>\n    <tr>\n      <th>SCIENCE</th>\n      <td>519</td>\n    </tr>\n    <tr>\n      <th>LITERATURE</th>\n      <td>496</td>\n    </tr>\n    <tr>\n      <th>AMERICAN HISTORY</th>\n      <td>418</td>\n    </tr>\n    <tr>\n      <th>POTPOURRI</th>\n      <td>401</td>\n    </tr>\n    <tr>\n      <th>WORLD HISTORY</th>\n      <td>377</td>\n    </tr>\n    <tr>\n      <th>WORD ORIGINS</th>\n      <td>371</td>\n    </tr>\n    <tr>\n      <th>COLLEGES &amp; UNIVERSITIES</th>\n      <td>351</td>\n    </tr>\n    <tr>\n      <th>HISTORY</th>\n      <td>349</td>\n    </tr>\n    <tr>\n      <th>SPORTS</th>\n      <td>342</td>\n    </tr>\n  </tbody>\n</table>\n</div>"
     },
     "metadata": {}
    }
   ]
  },
  {
   "cell_type": "markdown",
   "source": "Some cleanup/info\n- [x] air-date to datetime\n- [x] encode round\n    - Daily Doubles are implicit from money value - Ignore\n    - 3 Tiebreakers - Drop\n- [ ] value to int/standardize money,  historical info [link](https://outsider.com/news/entertainment/jeopardy-show-double-dollar-values-categories/)\n    - final question's have value np.nan\n    - Rank question difficulty 1 through 11 (5 qn values 1st round, 5 qn values 2nd round, 1 final jeopardy)?\n    - Or 1 through 13: 5 normal qn types plus daily double per round, times 2, and 1 final jeopardy\n    - ~~for the pilot, questions values were 25-125 for first round, then doubled~~ pilot not in the data\n    - Jeopardy! round was 100-500 for years\n    - 11/26/01 doubled all monetary values, so 200-1000 for Jeopardy! round",
   "metadata": {
    "tags": [],
    "cell_id": "00006-239b71c4-c054-4971-bd8f-bb39d0f9004e",
    "deepnote_cell_type": "markdown"
   }
  },
  {
   "cell_type": "code",
   "metadata": {
    "tags": [],
    "cell_id": "00016-f11981b7-d9b3-4431-9c85-7fdddbd9675e",
    "deepnote_to_be_reexecuted": false,
    "source_hash": "27d53f1f",
    "execution_start": 1620324166623,
    "execution_millis": 777,
    "deepnote_cell_type": "code"
   },
   "source": "df = df[df['round']!='Tiebreaker']",
   "execution_count": null,
   "outputs": []
  },
  {
   "cell_type": "code",
   "metadata": {
    "tags": [],
    "cell_id": "00019-86f94dfc-05ed-4b68-bd33-ec96b5d86804",
    "deepnote_to_be_reexecuted": false,
    "source_hash": "2e8663f7",
    "execution_start": 1620324168954,
    "execution_millis": 391,
    "deepnote_cell_type": "code"
   },
   "source": "round_dict = {}\nfor idx, jp_round in enumerate(df['round'].unique()):\n    round_dict[jp_round] = idx\nround_dict",
   "execution_count": null,
   "outputs": [
    {
     "output_type": "execute_result",
     "execution_count": 17,
     "data": {
      "text/plain": "{'Jeopardy!': 0, 'Double Jeopardy!': 1, 'Final Jeopardy!': 2}"
     },
     "metadata": {}
    }
   ]
  },
  {
   "cell_type": "code",
   "metadata": {
    "tags": [],
    "cell_id": "00016-66cc13fa-f87b-4b81-9ce8-832289c34d64",
    "deepnote_to_be_reexecuted": false,
    "source_hash": "59613bd6",
    "execution_start": 1620324169351,
    "execution_millis": 346,
    "deepnote_cell_type": "code"
   },
   "source": "# df['enc_round'] = df['round'].map(round_dict)\ndf.replace({'round': round_dict}, inplace=True)",
   "execution_count": null,
   "outputs": []
  },
  {
   "cell_type": "code",
   "metadata": {
    "tags": [],
    "cell_id": "00017-811654f5-9e0e-485b-a344-6fbd49b542e8",
    "deepnote_to_be_reexecuted": false,
    "source_hash": "6cd8acfd",
    "execution_start": 1620324174395,
    "execution_millis": 85,
    "deepnote_cell_type": "code"
   },
   "source": "df.head(2)",
   "execution_count": null,
   "outputs": [
    {
     "output_type": "execute_result",
     "execution_count": 19,
     "data": {
      "application/vnd.deepnote.dataframe.v2+json": {
       "row_count": 2,
       "column_count": 7,
       "columns": [
        {
         "name": "category",
         "dtype": "object",
         "stats": {
          "unique_count": 2,
          "nan_count": 0,
          "categories": [
           {
            "name": "HISTORY",
            "count": 1
           },
           {
            "name": "ESPN's TOP 10 ALL-TIME ATHLETES",
            "count": 1
           }
          ]
         }
        },
        {
         "name": "air_date",
         "dtype": "datetime64[ns]",
         "stats": {
          "unique_count": 1,
          "nan_count": 0,
          "min": "2004-12-31 00:00:00",
          "max": "2004-12-31 00:00:00",
          "histogram": null
         }
        },
        {
         "name": "question",
         "dtype": "object",
         "stats": {
          "unique_count": 2,
          "nan_count": 0,
          "categories": [
           {
            "name": "'For the last 8 years of his life, Galileo was under house arrest for espousing this man's theory'",
            "count": 1
           },
           {
            "name": "'No. 2: 1912 Olympian; football star at Carlisle Indian School; 6 MLB seasons with the Reds, Giants & Braves'",
            "count": 1
           }
          ]
         }
        },
        {
         "name": "value",
         "dtype": "object",
         "stats": {
          "unique_count": 1,
          "nan_count": 0,
          "categories": [
           {
            "name": "$200",
            "count": 2
           }
          ]
         }
        },
        {
         "name": "answer",
         "dtype": "object",
         "stats": {
          "unique_count": 2,
          "nan_count": 0,
          "categories": [
           {
            "name": "Copernicus",
            "count": 1
           },
           {
            "name": "Jim Thorpe",
            "count": 1
           }
          ]
         }
        },
        {
         "name": "round",
         "dtype": "int64",
         "stats": {
          "unique_count": 1,
          "nan_count": 0,
          "min": "0",
          "max": "0",
          "histogram": [
           {
            "bin_start": -0.5,
            "bin_end": -0.4,
            "count": 0
           },
           {
            "bin_start": -0.4,
            "bin_end": -0.3,
            "count": 0
           },
           {
            "bin_start": -0.3,
            "bin_end": -0.19999999999999996,
            "count": 0
           },
           {
            "bin_start": -0.19999999999999996,
            "bin_end": -0.09999999999999998,
            "count": 0
           },
           {
            "bin_start": -0.09999999999999998,
            "bin_end": 0,
            "count": 0
           },
           {
            "bin_start": 0,
            "bin_end": 0.10000000000000009,
            "count": 2
           },
           {
            "bin_start": 0.10000000000000009,
            "bin_end": 0.20000000000000007,
            "count": 0
           },
           {
            "bin_start": 0.20000000000000007,
            "bin_end": 0.30000000000000004,
            "count": 0
           },
           {
            "bin_start": 0.30000000000000004,
            "bin_end": 0.4,
            "count": 0
           },
           {
            "bin_start": 0.4,
            "bin_end": 0.5,
            "count": 0
           }
          ]
         }
        },
        {
         "name": "show_number",
         "dtype": "int64",
         "stats": {
          "unique_count": 1,
          "nan_count": 0,
          "min": "4680",
          "max": "4680",
          "histogram": [
           {
            "bin_start": 4679.5,
            "bin_end": 4679.6,
            "count": 0
           },
           {
            "bin_start": 4679.6,
            "bin_end": 4679.7,
            "count": 0
           },
           {
            "bin_start": 4679.7,
            "bin_end": 4679.8,
            "count": 0
           },
           {
            "bin_start": 4679.8,
            "bin_end": 4679.9,
            "count": 0
           },
           {
            "bin_start": 4679.9,
            "bin_end": 4680,
            "count": 0
           },
           {
            "bin_start": 4680,
            "bin_end": 4680.1,
            "count": 2
           },
           {
            "bin_start": 4680.1,
            "bin_end": 4680.2,
            "count": 0
           },
           {
            "bin_start": 4680.2,
            "bin_end": 4680.3,
            "count": 0
           },
           {
            "bin_start": 4680.3,
            "bin_end": 4680.4,
            "count": 0
           },
           {
            "bin_start": 4680.4,
            "bin_end": 4680.5,
            "count": 0
           }
          ]
         }
        },
        {
         "name": "_deepnote_index_column",
         "dtype": "int64"
        }
       ],
       "rows_top": [
        {
         "category": "HISTORY",
         "air_date": "2004-12-31T00:00:00.000000",
         "question": "'For the last 8 years of his life, Galileo was under house arrest for espousing this man's theory'",
         "value": "$200",
         "answer": "Copernicus",
         "round": 0,
         "show_number": 4680,
         "_deepnote_index_column": 0
        },
        {
         "category": "ESPN's TOP 10 ALL-TIME ATHLETES",
         "air_date": "2004-12-31T00:00:00.000000",
         "question": "'No. 2: 1912 Olympian; football star at Carlisle Indian School; 6 MLB seasons with the Reds, Giants & Braves'",
         "value": "$200",
         "answer": "Jim Thorpe",
         "round": 0,
         "show_number": 4680,
         "_deepnote_index_column": 1
        }
       ],
       "rows_bottom": null
      },
      "text/plain": "                          category   air_date  \\\n0                          HISTORY 2004-12-31   \n1  ESPN's TOP 10 ALL-TIME ATHLETES 2004-12-31   \n\n                                            question value      answer  round  \\\n0  'For the last 8 years of his life, Galileo was...  $200  Copernicus      0   \n1  'No. 2: 1912 Olympian; football star at Carlis...  $200  Jim Thorpe      0   \n\n   show_number  \n0         4680  \n1         4680  ",
      "text/html": "<div>\n<style scoped>\n    .dataframe tbody tr th:only-of-type {\n        vertical-align: middle;\n    }\n\n    .dataframe tbody tr th {\n        vertical-align: top;\n    }\n\n    .dataframe thead th {\n        text-align: right;\n    }\n</style>\n<table border=\"1\" class=\"dataframe\">\n  <thead>\n    <tr style=\"text-align: right;\">\n      <th></th>\n      <th>category</th>\n      <th>air_date</th>\n      <th>question</th>\n      <th>value</th>\n      <th>answer</th>\n      <th>round</th>\n      <th>show_number</th>\n    </tr>\n  </thead>\n  <tbody>\n    <tr>\n      <th>0</th>\n      <td>HISTORY</td>\n      <td>2004-12-31</td>\n      <td>'For the last 8 years of his life, Galileo was...</td>\n      <td>$200</td>\n      <td>Copernicus</td>\n      <td>0</td>\n      <td>4680</td>\n    </tr>\n    <tr>\n      <th>1</th>\n      <td>ESPN's TOP 10 ALL-TIME ATHLETES</td>\n      <td>2004-12-31</td>\n      <td>'No. 2: 1912 Olympian; football star at Carlis...</td>\n      <td>$200</td>\n      <td>Jim Thorpe</td>\n      <td>0</td>\n      <td>4680</td>\n    </tr>\n  </tbody>\n</table>\n</div>"
     },
     "metadata": {}
    }
   ]
  },
  {
   "cell_type": "code",
   "metadata": {
    "tags": [],
    "cell_id": "00018-b52e5d4d-d199-467a-b7b7-a392707cb8f1",
    "deepnote_to_be_reexecuted": false,
    "source_hash": "8480eb51",
    "execution_start": 1620325048934,
    "execution_millis": 733,
    "deepnote_cell_type": "code"
   },
   "source": "f\"There are {df['category'].nunique():,} unique categories.\"",
   "execution_count": null,
   "outputs": [
    {
     "output_type": "execute_result",
     "execution_count": 23,
     "data": {
      "text/plain": "'There are 27,995 unique categories.'"
     },
     "metadata": {}
    }
   ]
  },
  {
   "cell_type": "code",
   "metadata": {
    "tags": [],
    "cell_id": "00019-c9cacc56-b06c-4db0-9465-75cd9dbf9624",
    "deepnote_to_be_reexecuted": false,
    "source_hash": "5505c46a",
    "execution_start": 1620346222890,
    "execution_millis": 248,
    "deepnote_cell_type": "code"
   },
   "source": "cts = df.groupby('category').count()\nprint(f\"There are {cts[cts < 100].count()[0]:,} categories with less than 100 questions.\")\nprint(f\"There are {cts[cts >= 100].count()[0]:} categories with more than 100 questions.\")",
   "execution_count": null,
   "outputs": [
    {
     "name": "stdout",
     "text": "There are 27,845 categories with less than 100 questions.\nThere are 150 categories with more than 100 questions.\n",
     "output_type": "stream"
    }
   ]
  },
  {
   "cell_type": "markdown",
   "source": "### Data Preprocessing\nHere we need to use TFIDF to get the term-document matrix, then we can directly feed that into an NMF or LDA model.",
   "metadata": {
    "tags": [],
    "cell_id": "00021-14809c60-6bdf-4442-a63c-f4da12383555",
    "deepnote_cell_type": "markdown"
   }
  },
  {
   "cell_type": "code",
   "source": "qs = df['question']\nsamp = qs.sample(frac=0.1)",
   "metadata": {
    "tags": [],
    "cell_id": "00023-a54e4f13-759a-4cef-a005-a10434a7f242",
    "deepnote_to_be_reexecuted": false,
    "source_hash": "7787d068",
    "execution_start": 1620768900730,
    "execution_millis": 26249,
    "deepnote_cell_type": "code"
   },
   "outputs": [],
   "execution_count": 18
  },
  {
   "cell_type": "code",
   "source": "print(samp.shape[0])",
   "metadata": {
    "tags": [],
    "cell_id": "00024-334d493a-b758-4694-b34b-68f60dead2fb",
    "deepnote_to_be_reexecuted": false,
    "source_hash": "9cbde2cd",
    "execution_start": 1620769106269,
    "execution_millis": 20903,
    "deepnote_cell_type": "code"
   },
   "outputs": [
    {
     "name": "stdout",
     "text": "21693\n",
     "output_type": "stream"
    }
   ],
   "execution_count": 21
  },
  {
   "cell_type": "code",
   "source": "vectorizer = TfidfVectorizer(strip_accents='ascii', stop_words='english', max_df=0.95)  # we may need to find better stop words\ntfidf_qs = vectorizer.fit_transform(samp)",
   "metadata": {
    "tags": [],
    "cell_id": "00024-686729d8-8b80-4514-acec-bd254e56f83e",
    "deepnote_to_be_reexecuted": false,
    "source_hash": "f8c4fcb5",
    "execution_start": 1620769879490,
    "execution_millis": 897,
    "deepnote_cell_type": "code"
   },
   "outputs": [],
   "execution_count": 22
  },
  {
   "cell_type": "code",
   "source": "tfidf_qs.shape  # 30,886 words in this sample",
   "metadata": {
    "tags": [],
    "cell_id": "00026-9d9e844f-bf10-40f6-b938-d7f3946be1f9",
    "deepnote_to_be_reexecuted": false,
    "source_hash": "cc3d6b24",
    "execution_start": 1620769971568,
    "execution_millis": 16290,
    "deepnote_cell_type": "code"
   },
   "outputs": [
    {
     "output_type": "execute_result",
     "execution_count": 25,
     "data": {
      "text/plain": "(21693, 30886)"
     },
     "metadata": {}
    }
   ],
   "execution_count": 25
  },
  {
   "cell_type": "markdown",
   "source": "Maybe we need to clean up the questions first so we don't get weird words like these. One way could be to increase 'max_df' for the vectorizer.",
   "metadata": {
    "tags": [],
    "cell_id": "00027-6d4acf4a-1a29-4399-828f-9c6bc0664846",
    "deepnote_cell_type": "markdown"
   }
  },
  {
   "cell_type": "code",
   "source": "sorted(vectorizer.get_feature_names())[:25] ",
   "metadata": {
    "tags": [],
    "cell_id": "00027-7446154a-7f37-4650-b282-6059c4b1b7f5",
    "deepnote_to_be_reexecuted": false,
    "source_hash": "31c7677",
    "execution_start": 1620770315118,
    "execution_millis": 493,
    "deepnote_cell_type": "code"
   },
   "outputs": [
    {
     "output_type": "execute_result",
     "execution_count": 31,
     "data": {
      "text/plain": "['00',\n '000',\n '0005',\n '000th',\n '002',\n '007',\n '01',\n '01_dj_01',\n '01_dj_03',\n '01_dj_04',\n '01_dj_05',\n '01_dj_05a',\n '01_dj_06',\n '01_dj_07',\n '01_dj_08',\n '01_dj_10',\n '01_dj_13',\n '01_dj_14',\n '01_dj_14a',\n '01_dj_16',\n '01_dj_17',\n '01_dj_17a',\n '01_dj_20',\n '01_dj_21',\n '01_dj_23']"
     },
     "metadata": {}
    }
   ],
   "execution_count": 31
  },
  {
   "cell_type": "code",
   "source": "# look at the non-words in an individual question\nnp_tfidf = tfidf_qs.toarray()\nq1 = np.argwhere(np_tfidf[0] > 0).flatten()\n\nidx_to_word = {idx: word for word, idx in vectorizer.vocabulary_.items()}\nlist(map(idx_to_word.get, q1))",
   "metadata": {
    "tags": [],
    "cell_id": "00030-f0890d8e-13d5-4b8a-8b58-9987f2c6ae5f",
    "deepnote_to_be_reexecuted": false,
    "source_hash": "4f81b1b3",
    "execution_start": 1620770908929,
    "execution_millis": 1099,
    "deepnote_cell_type": "code"
   },
   "outputs": [
    {
     "output_type": "execute_result",
     "execution_count": 50,
     "data": {
      "text/plain": "['batter',\n 'beef',\n 'cooked',\n 'dipped',\n 'includes',\n 'meat',\n 'pounded',\n 'skillet']"
     },
     "metadata": {}
    }
   ],
   "execution_count": 50
  },
  {
   "cell_type": "code",
   "source": "samp",
   "metadata": {
    "tags": [],
    "cell_id": "00029-f608d4a0-9030-492a-9ee4-a34c78a284c2",
    "deepnote_to_be_reexecuted": false,
    "source_hash": "20049119",
    "execution_start": 1620772841680,
    "execution_millis": 37,
    "deepnote_cell_type": "code"
   },
   "outputs": [
    {
     "output_type": "execute_result",
     "execution_count": 54,
     "data": {
      "text/plain": "117603    'Beef pounded thin, dipped in batter & cooked ...\n200136    '(<a href=\"http://www.j-archive.com/media/2009...\n142718    'This Christian church is headed by The Patria...\n108186    'If Ms. Lee, lovely co-hostess of \"High Roller...\n5428      'A woman claiming to be this Lewis & Clark com...\n                                ...                        \n109687                          'Pestle's partner<br />(6)'\n28269     'Beginning a program to modernize the nation, ...\n29957                  'Hamlet, or Hans Christian Andersen'\n73618     'The fanged ones diligently recycle No. 1 (PET...\n97167     'The Spanish had fortified San Juan Hill, so t...\nName: question, Length: 21693, dtype: object"
     },
     "metadata": {}
    }
   ],
   "execution_count": 54
  },
  {
   "cell_type": "code",
   "source": "model = NMF(n_components=25, init='random', verbose=100)\nW = model.fit_transform(np_tfidf)  # document-topic matrix, rows=docs, cols=topic\nH = model.components_  # topic-term matrix, rows=topic, cols=terms",
   "metadata": {
    "tags": [],
    "cell_id": "00031-ffd2305e-07d1-4691-b3bf-2afe75ad6ccd",
    "deepnote_to_be_reexecuted": false,
    "source_hash": "e0420308",
    "execution_start": 1620771262289,
    "execution_millis": 542321,
    "deepnote_cell_type": "code"
   },
   "outputs": [
    {
     "output_type": "error",
     "ename": "KeyboardInterrupt",
     "evalue": "",
     "traceback": [
      "\u001b[0;31m---------------------------------------------------------------------------\u001b[0m",
      "\u001b[0;31mKeyboardInterrupt\u001b[0m                         Traceback (most recent call last)",
      "\u001b[0;32m<ipython-input-51-233adb5aa991>\u001b[0m in \u001b[0;36m<module>\u001b[0;34m\u001b[0m\n\u001b[1;32m      1\u001b[0m \u001b[0mmodel\u001b[0m \u001b[0;34m=\u001b[0m \u001b[0mNMF\u001b[0m\u001b[0;34m(\u001b[0m\u001b[0mn_components\u001b[0m\u001b[0;34m=\u001b[0m\u001b[0;36m25\u001b[0m\u001b[0;34m,\u001b[0m \u001b[0minit\u001b[0m\u001b[0;34m=\u001b[0m\u001b[0;34m'random'\u001b[0m\u001b[0;34m)\u001b[0m\u001b[0;34m\u001b[0m\u001b[0;34m\u001b[0m\u001b[0m\n\u001b[0;32m----> 2\u001b[0;31m \u001b[0mW\u001b[0m \u001b[0;34m=\u001b[0m \u001b[0mmodel\u001b[0m\u001b[0;34m.\u001b[0m\u001b[0mfit_transform\u001b[0m\u001b[0;34m(\u001b[0m\u001b[0mnp_tfidf\u001b[0m\u001b[0;34m)\u001b[0m\u001b[0;34m\u001b[0m\u001b[0;34m\u001b[0m\u001b[0m\n\u001b[0m\u001b[1;32m      3\u001b[0m \u001b[0mH\u001b[0m \u001b[0;34m=\u001b[0m \u001b[0mmodel\u001b[0m\u001b[0;34m.\u001b[0m\u001b[0mcomponents_\u001b[0m\u001b[0;34m\u001b[0m\u001b[0;34m\u001b[0m\u001b[0m\n",
      "\u001b[0;32m/shared-libs/python3.7/py/lib/python3.7/site-packages/sklearn/decomposition/_nmf.py\u001b[0m in \u001b[0;36mfit_transform\u001b[0;34m(self, X, y, W, H)\u001b[0m\n\u001b[1;32m   1315\u001b[0m                 \u001b[0ml1_ratio\u001b[0m\u001b[0;34m=\u001b[0m\u001b[0mself\u001b[0m\u001b[0;34m.\u001b[0m\u001b[0ml1_ratio\u001b[0m\u001b[0;34m,\u001b[0m \u001b[0mregularization\u001b[0m\u001b[0;34m=\u001b[0m\u001b[0mself\u001b[0m\u001b[0;34m.\u001b[0m\u001b[0mregularization\u001b[0m\u001b[0;34m,\u001b[0m\u001b[0;34m\u001b[0m\u001b[0;34m\u001b[0m\u001b[0m\n\u001b[1;32m   1316\u001b[0m                 \u001b[0mrandom_state\u001b[0m\u001b[0;34m=\u001b[0m\u001b[0mself\u001b[0m\u001b[0;34m.\u001b[0m\u001b[0mrandom_state\u001b[0m\u001b[0;34m,\u001b[0m \u001b[0mverbose\u001b[0m\u001b[0;34m=\u001b[0m\u001b[0mself\u001b[0m\u001b[0;34m.\u001b[0m\u001b[0mverbose\u001b[0m\u001b[0;34m,\u001b[0m\u001b[0;34m\u001b[0m\u001b[0;34m\u001b[0m\u001b[0m\n\u001b[0;32m-> 1317\u001b[0;31m                 shuffle=self.shuffle)\n\u001b[0m\u001b[1;32m   1318\u001b[0m \u001b[0;34m\u001b[0m\u001b[0m\n\u001b[1;32m   1319\u001b[0m         self.reconstruction_err_ = _beta_divergence(X, W, H, self.beta_loss,\n",
      "\u001b[0;32m/shared-libs/python3.7/py/lib/python3.7/site-packages/sklearn/utils/validation.py\u001b[0m in \u001b[0;36minner_f\u001b[0;34m(*args, **kwargs)\u001b[0m\n\u001b[1;32m     61\u001b[0m             \u001b[0mextra_args\u001b[0m \u001b[0;34m=\u001b[0m \u001b[0mlen\u001b[0m\u001b[0;34m(\u001b[0m\u001b[0margs\u001b[0m\u001b[0;34m)\u001b[0m \u001b[0;34m-\u001b[0m \u001b[0mlen\u001b[0m\u001b[0;34m(\u001b[0m\u001b[0mall_args\u001b[0m\u001b[0;34m)\u001b[0m\u001b[0;34m\u001b[0m\u001b[0;34m\u001b[0m\u001b[0m\n\u001b[1;32m     62\u001b[0m             \u001b[0;32mif\u001b[0m \u001b[0mextra_args\u001b[0m \u001b[0;34m<=\u001b[0m \u001b[0;36m0\u001b[0m\u001b[0;34m:\u001b[0m\u001b[0;34m\u001b[0m\u001b[0;34m\u001b[0m\u001b[0m\n\u001b[0;32m---> 63\u001b[0;31m                 \u001b[0;32mreturn\u001b[0m \u001b[0mf\u001b[0m\u001b[0;34m(\u001b[0m\u001b[0;34m*\u001b[0m\u001b[0margs\u001b[0m\u001b[0;34m,\u001b[0m \u001b[0;34m**\u001b[0m\u001b[0mkwargs\u001b[0m\u001b[0;34m)\u001b[0m\u001b[0;34m\u001b[0m\u001b[0;34m\u001b[0m\u001b[0m\n\u001b[0m\u001b[1;32m     64\u001b[0m \u001b[0;34m\u001b[0m\u001b[0m\n\u001b[1;32m     65\u001b[0m             \u001b[0;31m# extra_args > 0\u001b[0m\u001b[0;34m\u001b[0m\u001b[0;34m\u001b[0m\u001b[0;34m\u001b[0m\u001b[0m\n",
      "\u001b[0;32m/shared-libs/python3.7/py/lib/python3.7/site-packages/sklearn/decomposition/_nmf.py\u001b[0m in \u001b[0;36mnon_negative_factorization\u001b[0;34m(X, W, H, n_components, init, update_H, solver, beta_loss, tol, max_iter, alpha, l1_ratio, regularization, random_state, verbose, shuffle)\u001b[0m\n\u001b[1;32m   1077\u001b[0m                                                \u001b[0mverbose\u001b[0m\u001b[0;34m=\u001b[0m\u001b[0mverbose\u001b[0m\u001b[0;34m,\u001b[0m\u001b[0;34m\u001b[0m\u001b[0;34m\u001b[0m\u001b[0m\n\u001b[1;32m   1078\u001b[0m                                                \u001b[0mshuffle\u001b[0m\u001b[0;34m=\u001b[0m\u001b[0mshuffle\u001b[0m\u001b[0;34m,\u001b[0m\u001b[0;34m\u001b[0m\u001b[0;34m\u001b[0m\u001b[0m\n\u001b[0;32m-> 1079\u001b[0;31m                                                random_state=random_state)\n\u001b[0m\u001b[1;32m   1080\u001b[0m     \u001b[0;32melif\u001b[0m \u001b[0msolver\u001b[0m \u001b[0;34m==\u001b[0m \u001b[0;34m'mu'\u001b[0m\u001b[0;34m:\u001b[0m\u001b[0;34m\u001b[0m\u001b[0;34m\u001b[0m\u001b[0m\n\u001b[1;32m   1081\u001b[0m         W, H, n_iter = _fit_multiplicative_update(X, W, H, beta_loss, max_iter,\n",
      "\u001b[0;32m/shared-libs/python3.7/py/lib/python3.7/site-packages/sklearn/decomposition/_nmf.py\u001b[0m in \u001b[0;36m_fit_coordinate_descent\u001b[0;34m(X, W, H, tol, max_iter, l1_reg_W, l1_reg_H, l2_reg_W, l2_reg_H, update_H, verbose, shuffle, random_state)\u001b[0m\n\u001b[1;32m    516\u001b[0m         \u001b[0;31m# Update W\u001b[0m\u001b[0;34m\u001b[0m\u001b[0;34m\u001b[0m\u001b[0;34m\u001b[0m\u001b[0m\n\u001b[1;32m    517\u001b[0m         violation += _update_coordinate_descent(X, W, Ht, l1_reg_W,\n\u001b[0;32m--> 518\u001b[0;31m                                                 l2_reg_W, shuffle, rng)\n\u001b[0m\u001b[1;32m    519\u001b[0m         \u001b[0;31m# Update H\u001b[0m\u001b[0;34m\u001b[0m\u001b[0;34m\u001b[0m\u001b[0;34m\u001b[0m\u001b[0m\n\u001b[1;32m    520\u001b[0m         \u001b[0;32mif\u001b[0m \u001b[0mupdate_H\u001b[0m\u001b[0;34m:\u001b[0m\u001b[0;34m\u001b[0m\u001b[0;34m\u001b[0m\u001b[0m\n",
      "\u001b[0;32m/shared-libs/python3.7/py/lib/python3.7/site-packages/sklearn/decomposition/_nmf.py\u001b[0m in \u001b[0;36m_update_coordinate_descent\u001b[0;34m(X, W, Ht, l1_reg, l2_reg, shuffle, random_state)\u001b[0m\n\u001b[1;32m    414\u001b[0m \u001b[0;34m\u001b[0m\u001b[0m\n\u001b[1;32m    415\u001b[0m     \u001b[0mHHt\u001b[0m \u001b[0;34m=\u001b[0m \u001b[0mnp\u001b[0m\u001b[0;34m.\u001b[0m\u001b[0mdot\u001b[0m\u001b[0;34m(\u001b[0m\u001b[0mHt\u001b[0m\u001b[0;34m.\u001b[0m\u001b[0mT\u001b[0m\u001b[0;34m,\u001b[0m \u001b[0mHt\u001b[0m\u001b[0;34m)\u001b[0m\u001b[0;34m\u001b[0m\u001b[0;34m\u001b[0m\u001b[0m\n\u001b[0;32m--> 416\u001b[0;31m     \u001b[0mXHt\u001b[0m \u001b[0;34m=\u001b[0m \u001b[0msafe_sparse_dot\u001b[0m\u001b[0;34m(\u001b[0m\u001b[0mX\u001b[0m\u001b[0;34m,\u001b[0m \u001b[0mHt\u001b[0m\u001b[0;34m)\u001b[0m\u001b[0;34m\u001b[0m\u001b[0;34m\u001b[0m\u001b[0m\n\u001b[0m\u001b[1;32m    417\u001b[0m \u001b[0;34m\u001b[0m\u001b[0m\n\u001b[1;32m    418\u001b[0m     \u001b[0;31m# L2 regularization corresponds to increase of the diagonal of HHt\u001b[0m\u001b[0;34m\u001b[0m\u001b[0;34m\u001b[0m\u001b[0;34m\u001b[0m\u001b[0m\n",
      "\u001b[0;32m/shared-libs/python3.7/py/lib/python3.7/site-packages/sklearn/utils/validation.py\u001b[0m in \u001b[0;36minner_f\u001b[0;34m(*args, **kwargs)\u001b[0m\n\u001b[1;32m     61\u001b[0m             \u001b[0mextra_args\u001b[0m \u001b[0;34m=\u001b[0m \u001b[0mlen\u001b[0m\u001b[0;34m(\u001b[0m\u001b[0margs\u001b[0m\u001b[0;34m)\u001b[0m \u001b[0;34m-\u001b[0m \u001b[0mlen\u001b[0m\u001b[0;34m(\u001b[0m\u001b[0mall_args\u001b[0m\u001b[0;34m)\u001b[0m\u001b[0;34m\u001b[0m\u001b[0;34m\u001b[0m\u001b[0m\n\u001b[1;32m     62\u001b[0m             \u001b[0;32mif\u001b[0m \u001b[0mextra_args\u001b[0m \u001b[0;34m<=\u001b[0m \u001b[0;36m0\u001b[0m\u001b[0;34m:\u001b[0m\u001b[0;34m\u001b[0m\u001b[0;34m\u001b[0m\u001b[0m\n\u001b[0;32m---> 63\u001b[0;31m                 \u001b[0;32mreturn\u001b[0m \u001b[0mf\u001b[0m\u001b[0;34m(\u001b[0m\u001b[0;34m*\u001b[0m\u001b[0margs\u001b[0m\u001b[0;34m,\u001b[0m \u001b[0;34m**\u001b[0m\u001b[0mkwargs\u001b[0m\u001b[0;34m)\u001b[0m\u001b[0;34m\u001b[0m\u001b[0;34m\u001b[0m\u001b[0m\n\u001b[0m\u001b[1;32m     64\u001b[0m \u001b[0;34m\u001b[0m\u001b[0m\n\u001b[1;32m     65\u001b[0m             \u001b[0;31m# extra_args > 0\u001b[0m\u001b[0;34m\u001b[0m\u001b[0;34m\u001b[0m\u001b[0;34m\u001b[0m\u001b[0m\n",
      "\u001b[0;32m/shared-libs/python3.7/py/lib/python3.7/site-packages/sklearn/utils/extmath.py\u001b[0m in \u001b[0;36msafe_sparse_dot\u001b[0;34m(a, b, dense_output)\u001b[0m\n\u001b[1;32m    150\u001b[0m             \u001b[0mret\u001b[0m \u001b[0;34m=\u001b[0m \u001b[0mnp\u001b[0m\u001b[0;34m.\u001b[0m\u001b[0mdot\u001b[0m\u001b[0;34m(\u001b[0m\u001b[0ma\u001b[0m\u001b[0;34m,\u001b[0m \u001b[0mb\u001b[0m\u001b[0;34m)\u001b[0m\u001b[0;34m\u001b[0m\u001b[0;34m\u001b[0m\u001b[0m\n\u001b[1;32m    151\u001b[0m     \u001b[0;32melse\u001b[0m\u001b[0;34m:\u001b[0m\u001b[0;34m\u001b[0m\u001b[0;34m\u001b[0m\u001b[0m\n\u001b[0;32m--> 152\u001b[0;31m         \u001b[0mret\u001b[0m \u001b[0;34m=\u001b[0m \u001b[0ma\u001b[0m \u001b[0;34m@\u001b[0m \u001b[0mb\u001b[0m\u001b[0;34m\u001b[0m\u001b[0;34m\u001b[0m\u001b[0m\n\u001b[0m\u001b[1;32m    153\u001b[0m \u001b[0;34m\u001b[0m\u001b[0m\n\u001b[1;32m    154\u001b[0m     if (sparse.issparse(a) and sparse.issparse(b)\n",
      "\u001b[0;31mKeyboardInterrupt\u001b[0m: "
     ]
    }
   ],
   "execution_count": 51
  },
  {
   "cell_type": "code",
   "source": "NMF().get_params()",
   "metadata": {
    "tags": [],
    "cell_id": "00031-cb71c4cf-ef37-4104-bfdf-41de292d11fb",
    "deepnote_to_be_reexecuted": false,
    "source_hash": "92cf601c",
    "execution_start": 1620774851523,
    "execution_millis": 60,
    "deepnote_cell_type": "code"
   },
   "outputs": [
    {
     "output_type": "execute_result",
     "execution_count": 65,
     "data": {
      "text/plain": "{'alpha': 0.0,\n 'beta_loss': 'frobenius',\n 'init': 'warn',\n 'l1_ratio': 0.0,\n 'max_iter': 200,\n 'n_components': None,\n 'random_state': None,\n 'regularization': 'both',\n 'shuffle': False,\n 'solver': 'cd',\n 'tol': 0.0001,\n 'verbose': 0}"
     },
     "metadata": {}
    }
   ],
   "execution_count": 65
  },
  {
   "cell_type": "code",
   "source": "",
   "metadata": {
    "tags": [],
    "cell_id": "00031-4c090418-4c76-4e39-a32b-90ec0eafedf6",
    "deepnote_cell_type": "code"
   },
   "outputs": [],
   "execution_count": null
  },
  {
   "cell_type": "markdown",
   "source": "<a style='text-decoration:none;line-height:16px;display:flex;color:#5B5B62;padding:10px;justify-content:end;' href='https://deepnote.com?utm_source=created-in-deepnote-cell&projectId=eebde281-32de-46a2-88ad-b5936664574a' target=\"_blank\">\n<img alt='Created in deepnote.com' style='display:inline;max-height:16px;margin:0px;margin-right:7.5px;' src='data:image/svg+xml;base64,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' > </img>\nCreated in <span style='font-weight:600;margin-left:4px;'>Deepnote</span></a>",
   "metadata": {
    "tags": [],
    "created_in_deepnote_cell": true,
    "deepnote_cell_type": "markdown"
   }
  }
 ],
 "nbformat": 4,
 "nbformat_minor": 2,
 "metadata": {
  "orig_nbformat": 2,
  "deepnote": {
   "is_reactive": false
  },
  "deepnote_notebook_id": "3194b70f-d108-448e-adc9-c133109004ea",
  "deepnote_execution_queue": []
 }
}