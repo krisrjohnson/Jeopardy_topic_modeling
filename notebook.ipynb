{
 "cells": [
  {
   "cell_type": "markdown",
   "source": "# ",
   "metadata": {
    "tags": [],
    "cell_id": "00001-747a13aa-6201-4377-a727-2499a7a08045",
    "deepnote_cell_type": "markdown"
   }
  },
  {
   "cell_type": "code",
   "source": "# unpack data\n# !tar -xzvf JEOPARDY_QUESTIONS1.json.tar.gz",
   "metadata": {
    "tags": [],
    "cell_id": "00001-bdbd90b8-a5db-4525-9e84-7cf211dc8be3",
    "deepnote_to_be_reexecuted": false,
    "source_hash": "cf26b960",
    "execution_start": 1620317922889,
    "execution_millis": 421,
    "deepnote_cell_type": "code"
   },
   "outputs": [],
   "execution_count": 18
  },
  {
   "cell_type": "code",
   "source": "reset -fs",
   "metadata": {
    "tags": [],
    "cell_id": "00001-fe0d38d5-a7f2-4784-9c68-fc41e65f2849",
    "deepnote_to_be_reexecuted": false,
    "source_hash": "dca65800",
    "execution_start": 1620317781452,
    "execution_millis": 114,
    "deepnote_cell_type": "code"
   },
   "outputs": [],
   "execution_count": 6
  },
  {
   "cell_type": "code",
   "source": "%load_ext autoreload\n%autoreload 2",
   "metadata": {
    "tags": [],
    "cell_id": "00002-79958578-c7d4-4f76-bcaf-bb0968ffd1b9",
    "deepnote_to_be_reexecuted": false,
    "source_hash": "2f19d1f9",
    "execution_start": 1620317781794,
    "execution_millis": 20,
    "deepnote_cell_type": "code"
   },
   "outputs": [
    {
     "name": "stdout",
     "text": "The autoreload extension is already loaded. To reload it, use:\n  %reload_ext autoreload\n",
     "output_type": "stream"
    }
   ],
   "execution_count": 7
  },
  {
   "cell_type": "code",
   "source": "import pandas as pd\nimport numpy as np\nimport networkx as nx",
   "metadata": {
    "tags": [],
    "cell_id": "00003-5a5e74fa-17de-4755-988c-d92dc19d3195",
    "deepnote_to_be_reexecuted": false,
    "source_hash": "ca35baf6",
    "execution_start": 1620317782253,
    "execution_millis": 13,
    "deepnote_cell_type": "code"
   },
   "outputs": [],
   "execution_count": 8
  },
  {
   "cell_type": "code",
   "source": "df = pd.read_json(\"JEOPARDY_QUESTIONS1.json\")",
   "metadata": {
    "tags": [],
    "cell_id": "00004-c2365284-8207-4f37-9461-139246be5c66",
    "deepnote_to_be_reexecuted": false,
    "source_hash": "aeb60e6c",
    "execution_start": 1620317783039,
    "execution_millis": 1301,
    "deepnote_cell_type": "code"
   },
   "outputs": [],
   "execution_count": 9
  },
  {
   "cell_type": "code",
   "source": "df.head()",
   "metadata": {
    "tags": [],
    "cell_id": "00005-b1adf310-99a7-42eb-9792-e8261ae49d4f",
    "deepnote_to_be_reexecuted": false,
    "source_hash": "c085b6ba",
    "execution_start": 1620317784340,
    "execution_millis": 139,
    "deepnote_cell_type": "code"
   },
   "outputs": [
    {
     "output_type": "execute_result",
     "execution_count": 10,
     "data": {
      "application/vnd.deepnote.dataframe.v2+json": {
       "row_count": 5,
       "column_count": 7,
       "columns": [
        {
         "name": "category",
         "dtype": "object",
         "stats": {
          "unique_count": 5,
          "nan_count": 0,
          "categories": [
           {
            "name": "HISTORY",
            "count": 1
           },
           {
            "name": "ESPN's TOP 10 ALL-TIME ATHLETES",
            "count": 1
           },
           {
            "name": "3 others",
            "count": 3
           }
          ]
         }
        },
        {
         "name": "air_date",
         "dtype": "object",
         "stats": {
          "unique_count": 1,
          "nan_count": 0,
          "categories": [
           {
            "name": "2004-12-31",
            "count": 5
           }
          ]
         }
        },
        {
         "name": "question",
         "dtype": "object",
         "stats": {
          "unique_count": 5,
          "nan_count": 0,
          "categories": [
           {
            "name": "'For the last 8 years of his life, Galileo was under house arrest for espousing this man's theory'",
            "count": 1
           },
           {
            "name": "'No. 2: 1912 Olympian; football star at Carlisle Indian School; 6 MLB seasons with the Reds, Giants & Braves'",
            "count": 1
           },
           {
            "name": "3 others",
            "count": 3
           }
          ]
         }
        },
        {
         "name": "value",
         "dtype": "object",
         "stats": {
          "unique_count": 1,
          "nan_count": 0,
          "categories": [
           {
            "name": "$200",
            "count": 5
           }
          ]
         }
        },
        {
         "name": "answer",
         "dtype": "object",
         "stats": {
          "unique_count": 5,
          "nan_count": 0,
          "categories": [
           {
            "name": "Copernicus",
            "count": 1
           },
           {
            "name": "Jim Thorpe",
            "count": 1
           },
           {
            "name": "3 others",
            "count": 3
           }
          ]
         }
        },
        {
         "name": "round",
         "dtype": "object",
         "stats": {
          "unique_count": 1,
          "nan_count": 0,
          "categories": [
           {
            "name": "Jeopardy!",
            "count": 5
           }
          ]
         }
        },
        {
         "name": "show_number",
         "dtype": "int64",
         "stats": {
          "unique_count": 1,
          "nan_count": 0,
          "min": "4680",
          "max": "4680",
          "histogram": [
           {
            "bin_start": 4679.5,
            "bin_end": 4679.6,
            "count": 0
           },
           {
            "bin_start": 4679.6,
            "bin_end": 4679.7,
            "count": 0
           },
           {
            "bin_start": 4679.7,
            "bin_end": 4679.8,
            "count": 0
           },
           {
            "bin_start": 4679.8,
            "bin_end": 4679.9,
            "count": 0
           },
           {
            "bin_start": 4679.9,
            "bin_end": 4680,
            "count": 0
           },
           {
            "bin_start": 4680,
            "bin_end": 4680.1,
            "count": 5
           },
           {
            "bin_start": 4680.1,
            "bin_end": 4680.2,
            "count": 0
           },
           {
            "bin_start": 4680.2,
            "bin_end": 4680.3,
            "count": 0
           },
           {
            "bin_start": 4680.3,
            "bin_end": 4680.4,
            "count": 0
           },
           {
            "bin_start": 4680.4,
            "bin_end": 4680.5,
            "count": 0
           }
          ]
         }
        },
        {
         "name": "_deepnote_index_column",
         "dtype": "int64"
        }
       ],
       "rows_top": [
        {
         "category": "HISTORY",
         "air_date": "2004-12-31",
         "question": "'For the last 8 years of his life, Galileo was under house arrest for espousing this man's theory'",
         "value": "$200",
         "answer": "Copernicus",
         "round": "Jeopardy!",
         "show_number": 4680,
         "_deepnote_index_column": 0
        },
        {
         "category": "ESPN's TOP 10 ALL-TIME ATHLETES",
         "air_date": "2004-12-31",
         "question": "'No. 2: 1912 Olympian; football star at Carlisle Indian School; 6 MLB seasons with the Reds, Giants & Braves'",
         "value": "$200",
         "answer": "Jim Thorpe",
         "round": "Jeopardy!",
         "show_number": 4680,
         "_deepnote_index_column": 1
        },
        {
         "category": "EVERYBODY TALKS ABOUT IT...",
         "air_date": "2004-12-31",
         "question": "'The city of Yuma in this state has a record average of 4,055 hours of sunshine each year'",
         "value": "$200",
         "answer": "Arizona",
         "round": "Jeopardy!",
         "show_number": 4680,
         "_deepnote_index_column": 2
        },
        {
         "category": "THE COMPANY LINE",
         "air_date": "2004-12-31",
         "question": "'In 1963, live on \"The Art Linkletter Show\", this company served its billionth burger'",
         "value": "$200",
         "answer": "McDonald\\'s",
         "round": "Jeopardy!",
         "show_number": 4680,
         "_deepnote_index_column": 3
        },
        {
         "category": "EPITAPHS & TRIBUTES",
         "air_date": "2004-12-31",
         "question": "'Signer of the Dec. of Indep., framer of the Constitution of Mass., second President of the United States'",
         "value": "$200",
         "answer": "John Adams",
         "round": "Jeopardy!",
         "show_number": 4680,
         "_deepnote_index_column": 4
        }
       ],
       "rows_bottom": null
      },
      "text/plain": "                          category    air_date  \\\n0                          HISTORY  2004-12-31   \n1  ESPN's TOP 10 ALL-TIME ATHLETES  2004-12-31   \n2      EVERYBODY TALKS ABOUT IT...  2004-12-31   \n3                 THE COMPANY LINE  2004-12-31   \n4              EPITAPHS & TRIBUTES  2004-12-31   \n\n                                            question value       answer  \\\n0  'For the last 8 years of his life, Galileo was...  $200   Copernicus   \n1  'No. 2: 1912 Olympian; football star at Carlis...  $200   Jim Thorpe   \n2  'The city of Yuma in this state has a record a...  $200      Arizona   \n3  'In 1963, live on \"The Art Linkletter Show\", t...  $200  McDonald\\'s   \n4  'Signer of the Dec. of Indep., framer of the C...  $200   John Adams   \n\n       round  show_number  \n0  Jeopardy!         4680  \n1  Jeopardy!         4680  \n2  Jeopardy!         4680  \n3  Jeopardy!         4680  \n4  Jeopardy!         4680  ",
      "text/html": "<div>\n<style scoped>\n    .dataframe tbody tr th:only-of-type {\n        vertical-align: middle;\n    }\n\n    .dataframe tbody tr th {\n        vertical-align: top;\n    }\n\n    .dataframe thead th {\n        text-align: right;\n    }\n</style>\n<table border=\"1\" class=\"dataframe\">\n  <thead>\n    <tr style=\"text-align: right;\">\n      <th></th>\n      <th>category</th>\n      <th>air_date</th>\n      <th>question</th>\n      <th>value</th>\n      <th>answer</th>\n      <th>round</th>\n      <th>show_number</th>\n    </tr>\n  </thead>\n  <tbody>\n    <tr>\n      <th>0</th>\n      <td>HISTORY</td>\n      <td>2004-12-31</td>\n      <td>'For the last 8 years of his life, Galileo was...</td>\n      <td>$200</td>\n      <td>Copernicus</td>\n      <td>Jeopardy!</td>\n      <td>4680</td>\n    </tr>\n    <tr>\n      <th>1</th>\n      <td>ESPN's TOP 10 ALL-TIME ATHLETES</td>\n      <td>2004-12-31</td>\n      <td>'No. 2: 1912 Olympian; football star at Carlis...</td>\n      <td>$200</td>\n      <td>Jim Thorpe</td>\n      <td>Jeopardy!</td>\n      <td>4680</td>\n    </tr>\n    <tr>\n      <th>2</th>\n      <td>EVERYBODY TALKS ABOUT IT...</td>\n      <td>2004-12-31</td>\n      <td>'The city of Yuma in this state has a record a...</td>\n      <td>$200</td>\n      <td>Arizona</td>\n      <td>Jeopardy!</td>\n      <td>4680</td>\n    </tr>\n    <tr>\n      <th>3</th>\n      <td>THE COMPANY LINE</td>\n      <td>2004-12-31</td>\n      <td>'In 1963, live on \"The Art Linkletter Show\", t...</td>\n      <td>$200</td>\n      <td>McDonald\\'s</td>\n      <td>Jeopardy!</td>\n      <td>4680</td>\n    </tr>\n    <tr>\n      <th>4</th>\n      <td>EPITAPHS &amp; TRIBUTES</td>\n      <td>2004-12-31</td>\n      <td>'Signer of the Dec. of Indep., framer of the C...</td>\n      <td>$200</td>\n      <td>John Adams</td>\n      <td>Jeopardy!</td>\n      <td>4680</td>\n    </tr>\n  </tbody>\n</table>\n</div>"
     },
     "metadata": {}
    }
   ],
   "execution_count": 10
  },
  {
   "cell_type": "code",
   "source": "df['air_date']= pd.to_datetime(df['air_date'])",
   "metadata": {
    "tags": [],
    "cell_id": "00006-a772a90b-12fd-4bcd-ab60-c8134eefc145",
    "deepnote_to_be_reexecuted": false,
    "source_hash": "88f69e92",
    "execution_start": 1620317786986,
    "execution_millis": 153,
    "deepnote_cell_type": "code"
   },
   "outputs": [],
   "execution_count": 11
  },
  {
   "cell_type": "code",
   "source": "# first round values, earliest show in data\n# could also do show_number==1\ndf['air_date'].min(), df[(df['air_date']==df['air_date'].min()) & (df['round']=='Jeopardy!')]['value'].value_counts()",
   "metadata": {
    "tags": [],
    "cell_id": "00008-6b191502-a8c0-4dab-b1a8-9da47ecc8589",
    "deepnote_to_be_reexecuted": false,
    "source_hash": "f0e91f4b",
    "execution_start": 1620317789116,
    "execution_millis": 61,
    "deepnote_cell_type": "code"
   },
   "outputs": [
    {
     "output_type": "execute_result",
     "execution_count": 12,
     "data": {
      "text/plain": "(Timestamp('1984-09-10 00:00:00'),\n $400    5\n $200    5\n $100    5\n $300    4\n $500    3\n $800    1\n Name: value, dtype: int64)"
     },
     "metadata": {}
    }
   ],
   "execution_count": 12
  },
  {
   "cell_type": "code",
   "source": "# example final jeopardy row, last show in data\ndf[(df['show_number']==4999) & (df['round']=='Final Jeopardy!')]",
   "metadata": {
    "tags": [],
    "cell_id": "00008-47bfdc94-b39a-44c8-a93c-6ab746cdccee",
    "deepnote_to_be_reexecuted": false,
    "source_hash": "80bcbff",
    "execution_start": 1620317793135,
    "execution_millis": 97,
    "deepnote_cell_type": "code"
   },
   "outputs": [
    {
     "output_type": "execute_result",
     "execution_count": 13,
     "data": {
      "application/vnd.deepnote.dataframe.v2+json": {
       "row_count": 1,
       "column_count": 7,
       "columns": [
        {
         "name": "category",
         "dtype": "object",
         "stats": {
          "unique_count": 1,
          "nan_count": 0,
          "categories": [
           {
            "name": "HISTORIC NAMES",
            "count": 1
           }
          ]
         }
        },
        {
         "name": "air_date",
         "dtype": "datetime64[ns]",
         "stats": {
          "unique_count": 1,
          "nan_count": 0,
          "min": "2006-05-11 00:00:00",
          "max": "2006-05-11 00:00:00",
          "histogram": null
         }
        },
        {
         "name": "question",
         "dtype": "object",
         "stats": {
          "unique_count": 1,
          "nan_count": 0,
          "categories": [
           {
            "name": "'A silent movie title includes the last name of this 18th c. statesman & favorite of Catherine the Great'",
            "count": 1
           }
          ]
         }
        },
        {
         "name": "value",
         "dtype": "object",
         "stats": {
          "unique_count": 0,
          "nan_count": 1,
          "categories": [
           {
            "name": "Missing",
            "count": 1
           }
          ]
         }
        },
        {
         "name": "answer",
         "dtype": "object",
         "stats": {
          "unique_count": 1,
          "nan_count": 0,
          "categories": [
           {
            "name": "Grigori Alexandrovich Potemkin",
            "count": 1
           }
          ]
         }
        },
        {
         "name": "round",
         "dtype": "object",
         "stats": {
          "unique_count": 1,
          "nan_count": 0,
          "categories": [
           {
            "name": "Final Jeopardy!",
            "count": 1
           }
          ]
         }
        },
        {
         "name": "show_number",
         "dtype": "int64",
         "stats": {
          "unique_count": 1,
          "nan_count": 0,
          "min": "4999",
          "max": "4999",
          "histogram": [
           {
            "bin_start": 4998.5,
            "bin_end": 4998.6,
            "count": 0
           },
           {
            "bin_start": 4998.6,
            "bin_end": 4998.7,
            "count": 0
           },
           {
            "bin_start": 4998.7,
            "bin_end": 4998.8,
            "count": 0
           },
           {
            "bin_start": 4998.8,
            "bin_end": 4998.9,
            "count": 0
           },
           {
            "bin_start": 4998.9,
            "bin_end": 4999,
            "count": 0
           },
           {
            "bin_start": 4999,
            "bin_end": 4999.1,
            "count": 1
           },
           {
            "bin_start": 4999.1,
            "bin_end": 4999.2,
            "count": 0
           },
           {
            "bin_start": 4999.2,
            "bin_end": 4999.3,
            "count": 0
           },
           {
            "bin_start": 4999.3,
            "bin_end": 4999.4,
            "count": 0
           },
           {
            "bin_start": 4999.4,
            "bin_end": 4999.5,
            "count": 0
           }
          ]
         }
        },
        {
         "name": "_deepnote_index_column",
         "dtype": "int64"
        }
       ],
       "rows_top": [
        {
         "category": "HISTORIC NAMES",
         "air_date": "2006-05-11T00:00:00.000000",
         "question": "'A silent movie title includes the last name of this 18th c. statesman & favorite of Catherine the Great'",
         "value": "nan",
         "answer": "Grigori Alexandrovich Potemkin",
         "round": "Final Jeopardy!",
         "show_number": 4999,
         "_deepnote_index_column": 216929
        }
       ],
       "rows_bottom": null
      },
      "text/plain": "              category   air_date  \\\n216929  HISTORIC NAMES 2006-05-11   \n\n                                                 question value  \\\n216929  'A silent movie title includes the last name o...  None   \n\n                                answer            round  show_number  \n216929  Grigori Alexandrovich Potemkin  Final Jeopardy!         4999  ",
      "text/html": "<div>\n<style scoped>\n    .dataframe tbody tr th:only-of-type {\n        vertical-align: middle;\n    }\n\n    .dataframe tbody tr th {\n        vertical-align: top;\n    }\n\n    .dataframe thead th {\n        text-align: right;\n    }\n</style>\n<table border=\"1\" class=\"dataframe\">\n  <thead>\n    <tr style=\"text-align: right;\">\n      <th></th>\n      <th>category</th>\n      <th>air_date</th>\n      <th>question</th>\n      <th>value</th>\n      <th>answer</th>\n      <th>round</th>\n      <th>show_number</th>\n    </tr>\n  </thead>\n  <tbody>\n    <tr>\n      <th>216929</th>\n      <td>HISTORIC NAMES</td>\n      <td>2006-05-11</td>\n      <td>'A silent movie title includes the last name o...</td>\n      <td>None</td>\n      <td>Grigori Alexandrovich Potemkin</td>\n      <td>Final Jeopardy!</td>\n      <td>4999</td>\n    </tr>\n  </tbody>\n</table>\n</div>"
     },
     "metadata": {}
    }
   ],
   "execution_count": 13
  },
  {
   "cell_type": "code",
   "source": "# Existing category counts, desc\ndf.groupby('category').count()[['round']].sort_values(by=['round'], ascending=False).head(10)",
   "metadata": {
    "tags": [],
    "cell_id": "00010-6a2ef9f7-2ec6-44bd-80aa-ca1987e91ecd",
    "deepnote_to_be_reexecuted": false,
    "source_hash": "1a0cab1f",
    "execution_start": 1620314844189,
    "execution_millis": 247,
    "deepnote_cell_type": "code"
   },
   "outputs": [
    {
     "output_type": "execute_result",
     "execution_count": 18,
     "data": {
      "application/vnd.deepnote.dataframe.v2+json": {
       "row_count": 10,
       "column_count": 1,
       "columns": [
        {
         "name": "round",
         "dtype": "int64",
         "stats": {
          "unique_count": 10,
          "nan_count": 0,
          "min": "342",
          "max": "547",
          "histogram": [
           {
            "bin_start": 342,
            "bin_end": 362.5,
            "count": 3
           },
           {
            "bin_start": 362.5,
            "bin_end": 383,
            "count": 2
           },
           {
            "bin_start": 383,
            "bin_end": 403.5,
            "count": 1
           },
           {
            "bin_start": 403.5,
            "bin_end": 424,
            "count": 1
           },
           {
            "bin_start": 424,
            "bin_end": 444.5,
            "count": 0
           },
           {
            "bin_start": 444.5,
            "bin_end": 465,
            "count": 0
           },
           {
            "bin_start": 465,
            "bin_end": 485.5,
            "count": 0
           },
           {
            "bin_start": 485.5,
            "bin_end": 506,
            "count": 1
           },
           {
            "bin_start": 506,
            "bin_end": 526.5,
            "count": 1
           },
           {
            "bin_start": 526.5,
            "bin_end": 547,
            "count": 1
           }
          ]
         }
        },
        {
         "name": "_deepnote_index_column",
         "dtype": "object"
        }
       ],
       "rows_top": [
        {
         "round": 547,
         "_deepnote_index_column": "BEFORE & AFTER"
        },
        {
         "round": 519,
         "_deepnote_index_column": "SCIENCE"
        },
        {
         "round": 496,
         "_deepnote_index_column": "LITERATURE"
        },
        {
         "round": 418,
         "_deepnote_index_column": "AMERICAN HISTORY"
        },
        {
         "round": 401,
         "_deepnote_index_column": "POTPOURRI"
        },
        {
         "round": 377,
         "_deepnote_index_column": "WORLD HISTORY"
        },
        {
         "round": 371,
         "_deepnote_index_column": "WORD ORIGINS"
        },
        {
         "round": 351,
         "_deepnote_index_column": "COLLEGES & UNIVERSITIES"
        },
        {
         "round": 349,
         "_deepnote_index_column": "HISTORY"
        },
        {
         "round": 342,
         "_deepnote_index_column": "SPORTS"
        }
       ],
       "rows_bottom": null
      },
      "text/plain": "                         round\ncategory                      \nBEFORE & AFTER             547\nSCIENCE                    519\nLITERATURE                 496\nAMERICAN HISTORY           418\nPOTPOURRI                  401\nWORLD HISTORY              377\nWORD ORIGINS               371\nCOLLEGES & UNIVERSITIES    351\nHISTORY                    349\nSPORTS                     342",
      "text/html": "<div>\n<style scoped>\n    .dataframe tbody tr th:only-of-type {\n        vertical-align: middle;\n    }\n\n    .dataframe tbody tr th {\n        vertical-align: top;\n    }\n\n    .dataframe thead th {\n        text-align: right;\n    }\n</style>\n<table border=\"1\" class=\"dataframe\">\n  <thead>\n    <tr style=\"text-align: right;\">\n      <th></th>\n      <th>round</th>\n    </tr>\n    <tr>\n      <th>category</th>\n      <th></th>\n    </tr>\n  </thead>\n  <tbody>\n    <tr>\n      <th>BEFORE &amp; AFTER</th>\n      <td>547</td>\n    </tr>\n    <tr>\n      <th>SCIENCE</th>\n      <td>519</td>\n    </tr>\n    <tr>\n      <th>LITERATURE</th>\n      <td>496</td>\n    </tr>\n    <tr>\n      <th>AMERICAN HISTORY</th>\n      <td>418</td>\n    </tr>\n    <tr>\n      <th>POTPOURRI</th>\n      <td>401</td>\n    </tr>\n    <tr>\n      <th>WORLD HISTORY</th>\n      <td>377</td>\n    </tr>\n    <tr>\n      <th>WORD ORIGINS</th>\n      <td>371</td>\n    </tr>\n    <tr>\n      <th>COLLEGES &amp; UNIVERSITIES</th>\n      <td>351</td>\n    </tr>\n    <tr>\n      <th>HISTORY</th>\n      <td>349</td>\n    </tr>\n    <tr>\n      <th>SPORTS</th>\n      <td>342</td>\n    </tr>\n  </tbody>\n</table>\n</div>"
     },
     "metadata": {}
    }
   ],
   "execution_count": null
  },
  {
   "cell_type": "markdown",
   "source": "Some cleanup/info\n- [x] air-date to datetime\n- [x] encode round\n    - Daily Doubles are implicit from money value - Ignore\n    - 3 Tiebreakers - Drop\n- [ ] value to int/standardize money,  historical info [link](https://outsider.com/news/entertainment/jeopardy-show-double-dollar-values-categories/)\n    - final question's have value np.nan\n    - Rank question difficulty 1 through 11 (5 qn values 1st round, 5 qn values 2nd round, 1 final jeopardy)?\n    - Or 1 through 13: 5 normal qn types plus daily double per round, times 2, and 1 final jeopardy\n    - ~~for the pilot, questions values were 25-125 for first round, then doubled~~ pilot not in the data\n    - Jeopardy! round was 100-500 for years\n    - 11/26/01 doubled all monetary values, so 200-1000 for Jeopardy! round",
   "metadata": {
    "tags": [],
    "cell_id": "00006-239b71c4-c054-4971-bd8f-bb39d0f9004e",
    "deepnote_cell_type": "markdown"
   }
  },
  {
   "cell_type": "code",
   "source": "df = df[df['round']!='Tiebreaker']",
   "metadata": {
    "tags": [],
    "cell_id": "00016-f11981b7-d9b3-4431-9c85-7fdddbd9675e",
    "deepnote_to_be_reexecuted": false,
    "source_hash": "27d53f1f",
    "execution_start": 1620317818311,
    "execution_millis": 87,
    "deepnote_cell_type": "code"
   },
   "outputs": [],
   "execution_count": 14
  },
  {
   "cell_type": "code",
   "source": "round_dict = {}\nfor idx, jp_round in enumerate(df['round'].unique()):\n    round_dict[jp_round] = idx\nround_dict",
   "metadata": {
    "tags": [],
    "cell_id": "00019-86f94dfc-05ed-4b68-bd33-ec96b5d86804",
    "deepnote_to_be_reexecuted": false,
    "source_hash": "2e8663f7",
    "execution_start": 1620317823674,
    "execution_millis": 84,
    "deepnote_cell_type": "code"
   },
   "outputs": [
    {
     "output_type": "execute_result",
     "execution_count": 15,
     "data": {
      "text/plain": "{'Jeopardy!': 0, 'Double Jeopardy!': 1, 'Final Jeopardy!': 2}"
     },
     "metadata": {}
    }
   ],
   "execution_count": 15
  },
  {
   "cell_type": "code",
   "source": "# df['enc_round'] = df['round'].map(round_dict)\ndf.replace({'round': round_dict}, inplace=True)",
   "metadata": {
    "tags": [],
    "cell_id": "00016-66cc13fa-f87b-4b81-9ce8-832289c34d64",
    "deepnote_to_be_reexecuted": false,
    "source_hash": "59613bd6",
    "execution_start": 1620317824153,
    "execution_millis": 175,
    "deepnote_cell_type": "code"
   },
   "outputs": [],
   "execution_count": 16
  },
  {
   "cell_type": "code",
   "source": "df.head(2)",
   "metadata": {
    "tags": [],
    "cell_id": "00017-811654f5-9e0e-485b-a344-6fbd49b542e8",
    "deepnote_to_be_reexecuted": false,
    "source_hash": "6cd8acfd",
    "execution_start": 1620317827410,
    "execution_millis": 43,
    "deepnote_cell_type": "code"
   },
   "outputs": [
    {
     "output_type": "execute_result",
     "execution_count": 17,
     "data": {
      "application/vnd.deepnote.dataframe.v2+json": {
       "row_count": 2,
       "column_count": 7,
       "columns": [
        {
         "name": "category",
         "dtype": "object",
         "stats": {
          "unique_count": 2,
          "nan_count": 0,
          "categories": [
           {
            "name": "HISTORY",
            "count": 1
           },
           {
            "name": "ESPN's TOP 10 ALL-TIME ATHLETES",
            "count": 1
           }
          ]
         }
        },
        {
         "name": "air_date",
         "dtype": "datetime64[ns]",
         "stats": {
          "unique_count": 1,
          "nan_count": 0,
          "min": "2004-12-31 00:00:00",
          "max": "2004-12-31 00:00:00",
          "histogram": null
         }
        },
        {
         "name": "question",
         "dtype": "object",
         "stats": {
          "unique_count": 2,
          "nan_count": 0,
          "categories": [
           {
            "name": "'For the last 8 years of his life, Galileo was under house arrest for espousing this man's theory'",
            "count": 1
           },
           {
            "name": "'No. 2: 1912 Olympian; football star at Carlisle Indian School; 6 MLB seasons with the Reds, Giants & Braves'",
            "count": 1
           }
          ]
         }
        },
        {
         "name": "value",
         "dtype": "object",
         "stats": {
          "unique_count": 1,
          "nan_count": 0,
          "categories": [
           {
            "name": "$200",
            "count": 2
           }
          ]
         }
        },
        {
         "name": "answer",
         "dtype": "object",
         "stats": {
          "unique_count": 2,
          "nan_count": 0,
          "categories": [
           {
            "name": "Copernicus",
            "count": 1
           },
           {
            "name": "Jim Thorpe",
            "count": 1
           }
          ]
         }
        },
        {
         "name": "round",
         "dtype": "int64",
         "stats": {
          "unique_count": 1,
          "nan_count": 0,
          "min": "0",
          "max": "0",
          "histogram": [
           {
            "bin_start": -0.5,
            "bin_end": -0.4,
            "count": 0
           },
           {
            "bin_start": -0.4,
            "bin_end": -0.3,
            "count": 0
           },
           {
            "bin_start": -0.3,
            "bin_end": -0.19999999999999996,
            "count": 0
           },
           {
            "bin_start": -0.19999999999999996,
            "bin_end": -0.09999999999999998,
            "count": 0
           },
           {
            "bin_start": -0.09999999999999998,
            "bin_end": 0,
            "count": 0
           },
           {
            "bin_start": 0,
            "bin_end": 0.10000000000000009,
            "count": 2
           },
           {
            "bin_start": 0.10000000000000009,
            "bin_end": 0.20000000000000007,
            "count": 0
           },
           {
            "bin_start": 0.20000000000000007,
            "bin_end": 0.30000000000000004,
            "count": 0
           },
           {
            "bin_start": 0.30000000000000004,
            "bin_end": 0.4,
            "count": 0
           },
           {
            "bin_start": 0.4,
            "bin_end": 0.5,
            "count": 0
           }
          ]
         }
        },
        {
         "name": "show_number",
         "dtype": "int64",
         "stats": {
          "unique_count": 1,
          "nan_count": 0,
          "min": "4680",
          "max": "4680",
          "histogram": [
           {
            "bin_start": 4679.5,
            "bin_end": 4679.6,
            "count": 0
           },
           {
            "bin_start": 4679.6,
            "bin_end": 4679.7,
            "count": 0
           },
           {
            "bin_start": 4679.7,
            "bin_end": 4679.8,
            "count": 0
           },
           {
            "bin_start": 4679.8,
            "bin_end": 4679.9,
            "count": 0
           },
           {
            "bin_start": 4679.9,
            "bin_end": 4680,
            "count": 0
           },
           {
            "bin_start": 4680,
            "bin_end": 4680.1,
            "count": 2
           },
           {
            "bin_start": 4680.1,
            "bin_end": 4680.2,
            "count": 0
           },
           {
            "bin_start": 4680.2,
            "bin_end": 4680.3,
            "count": 0
           },
           {
            "bin_start": 4680.3,
            "bin_end": 4680.4,
            "count": 0
           },
           {
            "bin_start": 4680.4,
            "bin_end": 4680.5,
            "count": 0
           }
          ]
         }
        },
        {
         "name": "_deepnote_index_column",
         "dtype": "int64"
        }
       ],
       "rows_top": [
        {
         "category": "HISTORY",
         "air_date": "2004-12-31T00:00:00.000000",
         "question": "'For the last 8 years of his life, Galileo was under house arrest for espousing this man's theory'",
         "value": "$200",
         "answer": "Copernicus",
         "round": 0,
         "show_number": 4680,
         "_deepnote_index_column": 0
        },
        {
         "category": "ESPN's TOP 10 ALL-TIME ATHLETES",
         "air_date": "2004-12-31T00:00:00.000000",
         "question": "'No. 2: 1912 Olympian; football star at Carlisle Indian School; 6 MLB seasons with the Reds, Giants & Braves'",
         "value": "$200",
         "answer": "Jim Thorpe",
         "round": 0,
         "show_number": 4680,
         "_deepnote_index_column": 1
        }
       ],
       "rows_bottom": null
      },
      "text/plain": "                          category   air_date  \\\n0                          HISTORY 2004-12-31   \n1  ESPN's TOP 10 ALL-TIME ATHLETES 2004-12-31   \n\n                                            question value      answer  round  \\\n0  'For the last 8 years of his life, Galileo was...  $200  Copernicus      0   \n1  'No. 2: 1912 Olympian; football star at Carlis...  $200  Jim Thorpe      0   \n\n   show_number  \n0         4680  \n1         4680  ",
      "text/html": "<div>\n<style scoped>\n    .dataframe tbody tr th:only-of-type {\n        vertical-align: middle;\n    }\n\n    .dataframe tbody tr th {\n        vertical-align: top;\n    }\n\n    .dataframe thead th {\n        text-align: right;\n    }\n</style>\n<table border=\"1\" class=\"dataframe\">\n  <thead>\n    <tr style=\"text-align: right;\">\n      <th></th>\n      <th>category</th>\n      <th>air_date</th>\n      <th>question</th>\n      <th>value</th>\n      <th>answer</th>\n      <th>round</th>\n      <th>show_number</th>\n    </tr>\n  </thead>\n  <tbody>\n    <tr>\n      <th>0</th>\n      <td>HISTORY</td>\n      <td>2004-12-31</td>\n      <td>'For the last 8 years of his life, Galileo was...</td>\n      <td>$200</td>\n      <td>Copernicus</td>\n      <td>0</td>\n      <td>4680</td>\n    </tr>\n    <tr>\n      <th>1</th>\n      <td>ESPN's TOP 10 ALL-TIME ATHLETES</td>\n      <td>2004-12-31</td>\n      <td>'No. 2: 1912 Olympian; football star at Carlis...</td>\n      <td>$200</td>\n      <td>Jim Thorpe</td>\n      <td>0</td>\n      <td>4680</td>\n    </tr>\n  </tbody>\n</table>\n</div>"
     },
     "metadata": {}
    }
   ],
   "execution_count": 17
  },
  {
   "cell_type": "code",
   "source": "",
   "metadata": {
    "tags": [],
    "cell_id": "00018-b52e5d4d-d199-467a-b7b7-a392707cb8f1",
    "deepnote_cell_type": "code"
   },
   "outputs": [],
   "execution_count": null
  },
  {
   "cell_type": "code",
   "source": "",
   "metadata": {
    "tags": [],
    "cell_id": "00019-c9cacc56-b06c-4db0-9465-75cd9dbf9624",
    "deepnote_cell_type": "code"
   },
   "outputs": [],
   "execution_count": null
  },
  {
   "cell_type": "markdown",
   "source": "<a style='text-decoration:none;line-height:16px;display:flex;color:#5B5B62;padding:10px;justify-content:end;' href='https://deepnote.com?utm_source=created-in-deepnote-cell&projectId=eebde281-32de-46a2-88ad-b5936664574a' target=\"_blank\">\n<img alt='Created in deepnote.com' style='display:inline;max-height:16px;margin:0px;margin-right:7.5px;' src='data:image/svg+xml;base64,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' > </img>\nCreated in <span style='font-weight:600;margin-left:4px;'>Deepnote</span></a>",
   "metadata": {
    "tags": [],
    "created_in_deepnote_cell": true,
    "deepnote_cell_type": "markdown"
   }
  }
 ],
 "nbformat": 4,
 "nbformat_minor": 2,
 "metadata": {
  "orig_nbformat": 2,
  "deepnote": {
   "is_reactive": false
  },
  "deepnote_notebook_id": "3194b70f-d108-448e-adc9-c133109004ea",
  "deepnote_execution_queue": []
 }
}